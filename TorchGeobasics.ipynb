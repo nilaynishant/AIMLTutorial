{
  "nbformat": 4,
  "nbformat_minor": 0,
  "metadata": {
    "colab": {
      "provenance": [],
      "gpuType": "T4",
      "authorship_tag": "ABX9TyOpIrTG+i8Tt4Z1wIc88TjH",
      "include_colab_link": true
    },
    "kernelspec": {
      "name": "python3",
      "display_name": "Python 3"
    },
    "language_info": {
      "name": "python"
    },
    "accelerator": "GPU"
  },
  "cells": [
    {
      "cell_type": "markdown",
      "metadata": {
        "id": "view-in-github",
        "colab_type": "text"
      },
      "source": [
        "<a href=\"https://colab.research.google.com/github/nilaynishant/AIMLTutorial/blob/main/TorchGeobasics.ipynb\" target=\"_parent\"><img src=\"https://colab.research.google.com/assets/colab-badge.svg\" alt=\"Open In Colab\"/></a>"
      ]
    },
    {
      "cell_type": "code",
      "execution_count": 1,
      "metadata": {
        "colab": {
          "base_uri": "https://localhost:8080/",
          "height": 1000
        },
        "id": "EYCLwB6qSjas",
        "outputId": "1d082312-2205-4b41-9cd2-084b50efc39d"
      },
      "outputs": [
        {
          "output_type": "stream",
          "name": "stdout",
          "text": [
            "Collecting torchgeo\n",
            "  Downloading torchgeo-0.5.1-py3-none-any.whl (378 kB)\n",
            "\u001b[2K     \u001b[90m━━━━━━━━━━━━━━━━━━━━━━━━━━━━━━━━━━━━━━━━\u001b[0m \u001b[32m378.5/378.5 kB\u001b[0m \u001b[31m6.1 MB/s\u001b[0m eta \u001b[36m0:00:00\u001b[0m\n",
            "\u001b[?25hCollecting einops>=0.3 (from torchgeo)\n",
            "  Downloading einops-0.7.0-py3-none-any.whl (44 kB)\n",
            "\u001b[2K     \u001b[90m━━━━━━━━━━━━━━━━━━━━━━━━━━━━━━━━━━━━━━━━\u001b[0m \u001b[32m44.6/44.6 kB\u001b[0m \u001b[31m5.2 MB/s\u001b[0m eta \u001b[36m0:00:00\u001b[0m\n",
            "\u001b[?25hRequirement already satisfied: fiona>=1.8.19 in /usr/local/lib/python3.10/dist-packages (from torchgeo) (1.9.5)\n",
            "Collecting kornia>=0.6.9 (from torchgeo)\n",
            "  Downloading kornia-0.7.0-py2.py3-none-any.whl (705 kB)\n",
            "\u001b[2K     \u001b[90m━━━━━━━━━━━━━━━━━━━━━━━━━━━━━━━━━━━━━━━━\u001b[0m \u001b[32m705.7/705.7 kB\u001b[0m \u001b[31m11.1 MB/s\u001b[0m eta \u001b[36m0:00:00\u001b[0m\n",
            "\u001b[?25hCollecting lightly>=1.4.4 (from torchgeo)\n",
            "  Downloading lightly-1.4.23-py3-none-any.whl (670 kB)\n",
            "\u001b[2K     \u001b[90m━━━━━━━━━━━━━━━━━━━━━━━━━━━━━━━━━━━━━━━━\u001b[0m \u001b[32m670.7/670.7 kB\u001b[0m \u001b[31m14.5 MB/s\u001b[0m eta \u001b[36m0:00:00\u001b[0m\n",
            "\u001b[?25hCollecting lightning[pytorch-extra]>=2 (from torchgeo)\n",
            "  Downloading lightning-2.1.2-py3-none-any.whl (2.0 MB)\n",
            "\u001b[2K     \u001b[90m━━━━━━━━━━━━━━━━━━━━━━━━━━━━━━━━━━━━━━━━\u001b[0m \u001b[32m2.0/2.0 MB\u001b[0m \u001b[31m21.8 MB/s\u001b[0m eta \u001b[36m0:00:00\u001b[0m\n",
            "\u001b[?25hRequirement already satisfied: matplotlib>=3.3.3 in /usr/local/lib/python3.10/dist-packages (from torchgeo) (3.7.1)\n",
            "Requirement already satisfied: numpy>=1.19.3 in /usr/local/lib/python3.10/dist-packages (from torchgeo) (1.23.5)\n",
            "Requirement already satisfied: pandas>=1.1.3 in /usr/local/lib/python3.10/dist-packages (from torchgeo) (1.5.3)\n",
            "Requirement already satisfied: pillow>=8 in /usr/local/lib/python3.10/dist-packages (from torchgeo) (9.4.0)\n",
            "Requirement already satisfied: pyproj>=3 in /usr/local/lib/python3.10/dist-packages (from torchgeo) (3.6.1)\n",
            "Collecting rasterio>=1.2 (from torchgeo)\n",
            "  Downloading rasterio-1.3.9-cp310-cp310-manylinux2014_x86_64.whl (20.6 MB)\n",
            "\u001b[2K     \u001b[90m━━━━━━━━━━━━━━━━━━━━━━━━━━━━━━━━━━━━━━━━\u001b[0m \u001b[32m20.6/20.6 MB\u001b[0m \u001b[31m60.0 MB/s\u001b[0m eta \u001b[36m0:00:00\u001b[0m\n",
            "\u001b[?25hCollecting rtree>=1 (from torchgeo)\n",
            "  Downloading Rtree-1.1.0-py3-none-manylinux2014_x86_64.manylinux_2_17_x86_64.whl (488 kB)\n",
            "\u001b[2K     \u001b[90m━━━━━━━━━━━━━━━━━━━━━━━━━━━━━━━━━━━━━━━━\u001b[0m \u001b[32m488.6/488.6 kB\u001b[0m \u001b[31m42.4 MB/s\u001b[0m eta \u001b[36m0:00:00\u001b[0m\n",
            "\u001b[?25hCollecting segmentation-models-pytorch>=0.2 (from torchgeo)\n",
            "  Downloading segmentation_models_pytorch-0.3.3-py3-none-any.whl (106 kB)\n",
            "\u001b[2K     \u001b[90m━━━━━━━━━━━━━━━━━━━━━━━━━━━━━━━━━━━━━━━━\u001b[0m \u001b[32m106.7/106.7 kB\u001b[0m \u001b[31m13.7 MB/s\u001b[0m eta \u001b[36m0:00:00\u001b[0m\n",
            "\u001b[?25hRequirement already satisfied: shapely>=1.7.1 in /usr/local/lib/python3.10/dist-packages (from torchgeo) (2.0.2)\n",
            "Collecting timm>=0.4.12 (from torchgeo)\n",
            "  Downloading timm-0.9.12-py3-none-any.whl (2.2 MB)\n",
            "\u001b[2K     \u001b[90m━━━━━━━━━━━━━━━━━━━━━━━━━━━━━━━━━━━━━━━━\u001b[0m \u001b[32m2.2/2.2 MB\u001b[0m \u001b[31m90.9 MB/s\u001b[0m eta \u001b[36m0:00:00\u001b[0m\n",
            "\u001b[?25hRequirement already satisfied: torch>=1.12 in /usr/local/lib/python3.10/dist-packages (from torchgeo) (2.1.0+cu118)\n",
            "Collecting torchmetrics>=0.10 (from torchgeo)\n",
            "  Downloading torchmetrics-1.2.0-py3-none-any.whl (805 kB)\n",
            "\u001b[2K     \u001b[90m━━━━━━━━━━━━━━━━━━━━━━━━━━━━━━━━━━━━━━━━\u001b[0m \u001b[32m805.2/805.2 kB\u001b[0m \u001b[31m60.9 MB/s\u001b[0m eta \u001b[36m0:00:00\u001b[0m\n",
            "\u001b[?25hRequirement already satisfied: torchvision>=0.13 in /usr/local/lib/python3.10/dist-packages (from torchgeo) (0.16.0+cu118)\n",
            "Requirement already satisfied: attrs>=19.2.0 in /usr/local/lib/python3.10/dist-packages (from fiona>=1.8.19->torchgeo) (23.1.0)\n",
            "Requirement already satisfied: certifi in /usr/local/lib/python3.10/dist-packages (from fiona>=1.8.19->torchgeo) (2023.7.22)\n",
            "Requirement already satisfied: click~=8.0 in /usr/local/lib/python3.10/dist-packages (from fiona>=1.8.19->torchgeo) (8.1.7)\n",
            "Requirement already satisfied: click-plugins>=1.0 in /usr/local/lib/python3.10/dist-packages (from fiona>=1.8.19->torchgeo) (1.1.1)\n",
            "Requirement already satisfied: cligj>=0.5 in /usr/local/lib/python3.10/dist-packages (from fiona>=1.8.19->torchgeo) (0.7.2)\n",
            "Requirement already satisfied: six in /usr/local/lib/python3.10/dist-packages (from fiona>=1.8.19->torchgeo) (1.16.0)\n",
            "Requirement already satisfied: setuptools in /usr/local/lib/python3.10/dist-packages (from fiona>=1.8.19->torchgeo) (67.7.2)\n",
            "Requirement already satisfied: packaging in /usr/local/lib/python3.10/dist-packages (from kornia>=0.6.9->torchgeo) (23.2)\n",
            "Collecting hydra-core>=1.0.0 (from lightly>=1.4.4->torchgeo)\n",
            "  Downloading hydra_core-1.3.2-py3-none-any.whl (154 kB)\n",
            "\u001b[2K     \u001b[90m━━━━━━━━━━━━━━━━━━━━━━━━━━━━━━━━━━━━━━━━\u001b[0m \u001b[32m154.5/154.5 kB\u001b[0m \u001b[31m17.5 MB/s\u001b[0m eta \u001b[36m0:00:00\u001b[0m\n",
            "\u001b[?25hCollecting lightly-utils~=0.0.0 (from lightly>=1.4.4->torchgeo)\n",
            "  Downloading lightly_utils-0.0.2-py3-none-any.whl (6.4 kB)\n",
            "Requirement already satisfied: python-dateutil>=2.5.3 in /usr/local/lib/python3.10/dist-packages (from lightly>=1.4.4->torchgeo) (2.8.2)\n",
            "Requirement already satisfied: requests>=2.23.0 in /usr/local/lib/python3.10/dist-packages (from lightly>=1.4.4->torchgeo) (2.31.0)\n",
            "Requirement already satisfied: tqdm>=4.44 in /usr/local/lib/python3.10/dist-packages (from lightly>=1.4.4->torchgeo) (4.66.1)\n",
            "Requirement already satisfied: urllib3>=1.15.1 in /usr/local/lib/python3.10/dist-packages (from lightly>=1.4.4->torchgeo) (2.0.7)\n",
            "Requirement already satisfied: pydantic<2,>=1.10.5 in /usr/local/lib/python3.10/dist-packages (from lightly>=1.4.4->torchgeo) (1.10.13)\n",
            "Collecting aenum>=3.1.11 (from lightly>=1.4.4->torchgeo)\n",
            "  Downloading aenum-3.1.15-py3-none-any.whl (137 kB)\n",
            "\u001b[2K     \u001b[90m━━━━━━━━━━━━━━━━━━━━━━━━━━━━━━━━━━━━━━━━\u001b[0m \u001b[32m137.6/137.6 kB\u001b[0m \u001b[31m17.9 MB/s\u001b[0m eta \u001b[36m0:00:00\u001b[0m\n",
            "\u001b[?25hCollecting pytorch-lightning>=1.0.4 (from lightly>=1.4.4->torchgeo)\n",
            "  Downloading pytorch_lightning-2.1.2-py3-none-any.whl (776 kB)\n",
            "\u001b[2K     \u001b[90m━━━━━━━━━━━━━━━━━━━━━━━━━━━━━━━━━━━━━━━━\u001b[0m \u001b[32m776.9/776.9 kB\u001b[0m \u001b[31m41.9 MB/s\u001b[0m eta \u001b[36m0:00:00\u001b[0m\n",
            "\u001b[?25hRequirement already satisfied: PyYAML<8.0,>=5.4 in /usr/local/lib/python3.10/dist-packages (from lightning[pytorch-extra]>=2->torchgeo) (6.0.1)\n",
            "Requirement already satisfied: fsspec[http]<2025.0,>2021.06.0 in /usr/local/lib/python3.10/dist-packages (from lightning[pytorch-extra]>=2->torchgeo) (2023.6.0)\n",
            "Collecting lightning-utilities<2.0,>=0.8.0 (from lightning[pytorch-extra]>=2->torchgeo)\n",
            "  Downloading lightning_utilities-0.10.0-py3-none-any.whl (24 kB)\n",
            "Requirement already satisfied: typing-extensions<6.0,>=4.0.0 in /usr/local/lib/python3.10/dist-packages (from lightning[pytorch-extra]>=2->torchgeo) (4.5.0)\n",
            "Collecting bitsandbytes<1.0 (from lightning[pytorch-extra]>=2->torchgeo)\n",
            "  Downloading bitsandbytes-0.41.2.post2-py3-none-any.whl (92.6 MB)\n",
            "\u001b[2K     \u001b[90m━━━━━━━━━━━━━━━━━━━━━━━━━━━━━━━━━━━━━━━━\u001b[0m \u001b[32m92.6/92.6 MB\u001b[0m \u001b[31m10.1 MB/s\u001b[0m eta \u001b[36m0:00:00\u001b[0m\n",
            "\u001b[?25hCollecting jsonargparse[signatures]<5.0,>=4.18.0 (from lightning[pytorch-extra]>=2->torchgeo)\n",
            "  Downloading jsonargparse-4.27.1-py3-none-any.whl (189 kB)\n",
            "\u001b[2K     \u001b[90m━━━━━━━━━━━━━━━━━━━━━━━━━━━━━━━━━━━━━━━━\u001b[0m \u001b[32m189.7/189.7 kB\u001b[0m \u001b[31m24.9 MB/s\u001b[0m eta \u001b[36m0:00:00\u001b[0m\n",
            "\u001b[?25hCollecting omegaconf<3.0,>=2.0.5 (from lightning[pytorch-extra]>=2->torchgeo)\n",
            "  Downloading omegaconf-2.3.0-py3-none-any.whl (79 kB)\n",
            "\u001b[2K     \u001b[90m━━━━━━━━━━━━━━━━━━━━━━━━━━━━━━━━━━━━━━━━\u001b[0m \u001b[32m79.5/79.5 kB\u001b[0m \u001b[31m9.7 MB/s\u001b[0m eta \u001b[36m0:00:00\u001b[0m\n",
            "\u001b[?25hRequirement already satisfied: rich<14.0,>=12.3.0 in /usr/local/lib/python3.10/dist-packages (from lightning[pytorch-extra]>=2->torchgeo) (13.7.0)\n",
            "Collecting tensorboardX<3.0,>=2.2 (from lightning[pytorch-extra]>=2->torchgeo)\n",
            "  Downloading tensorboardX-2.6.2.2-py2.py3-none-any.whl (101 kB)\n",
            "\u001b[2K     \u001b[90m━━━━━━━━━━━━━━━━━━━━━━━━━━━━━━━━━━━━━━━━\u001b[0m \u001b[32m101.7/101.7 kB\u001b[0m \u001b[31m10.7 MB/s\u001b[0m eta \u001b[36m0:00:00\u001b[0m\n",
            "\u001b[?25hRequirement already satisfied: contourpy>=1.0.1 in /usr/local/lib/python3.10/dist-packages (from matplotlib>=3.3.3->torchgeo) (1.2.0)\n",
            "Requirement already satisfied: cycler>=0.10 in /usr/local/lib/python3.10/dist-packages (from matplotlib>=3.3.3->torchgeo) (0.12.1)\n",
            "Requirement already satisfied: fonttools>=4.22.0 in /usr/local/lib/python3.10/dist-packages (from matplotlib>=3.3.3->torchgeo) (4.44.3)\n",
            "Requirement already satisfied: kiwisolver>=1.0.1 in /usr/local/lib/python3.10/dist-packages (from matplotlib>=3.3.3->torchgeo) (1.4.5)\n",
            "Requirement already satisfied: pyparsing>=2.3.1 in /usr/local/lib/python3.10/dist-packages (from matplotlib>=3.3.3->torchgeo) (3.1.1)\n",
            "Requirement already satisfied: pytz>=2020.1 in /usr/local/lib/python3.10/dist-packages (from pandas>=1.1.3->torchgeo) (2023.3.post1)\n",
            "Collecting affine (from rasterio>=1.2->torchgeo)\n",
            "  Downloading affine-2.4.0-py3-none-any.whl (15 kB)\n",
            "Collecting snuggs>=1.4.1 (from rasterio>=1.2->torchgeo)\n",
            "  Downloading snuggs-1.4.7-py3-none-any.whl (5.4 kB)\n",
            "Collecting pretrainedmodels==0.7.4 (from segmentation-models-pytorch>=0.2->torchgeo)\n",
            "  Downloading pretrainedmodels-0.7.4.tar.gz (58 kB)\n",
            "\u001b[2K     \u001b[90m━━━━━━━━━━━━━━━━━━━━━━━━━━━━━━━━━━━━━━━━\u001b[0m \u001b[32m58.8/58.8 kB\u001b[0m \u001b[31m7.9 MB/s\u001b[0m eta \u001b[36m0:00:00\u001b[0m\n",
            "\u001b[?25h  Preparing metadata (setup.py) ... \u001b[?25l\u001b[?25hdone\n",
            "Collecting efficientnet-pytorch==0.7.1 (from segmentation-models-pytorch>=0.2->torchgeo)\n",
            "  Downloading efficientnet_pytorch-0.7.1.tar.gz (21 kB)\n",
            "  Preparing metadata (setup.py) ... \u001b[?25l\u001b[?25hdone\n",
            "Collecting timm>=0.4.12 (from torchgeo)\n",
            "  Downloading timm-0.9.2-py3-none-any.whl (2.2 MB)\n",
            "\u001b[2K     \u001b[90m━━━━━━━━━━━━━━━━━━━━━━━━━━━━━━━━━━━━━━━━\u001b[0m \u001b[32m2.2/2.2 MB\u001b[0m \u001b[31m59.6 MB/s\u001b[0m eta \u001b[36m0:00:00\u001b[0m\n",
            "\u001b[?25hRequirement already satisfied: huggingface-hub in /usr/local/lib/python3.10/dist-packages (from timm>=0.4.12->torchgeo) (0.19.4)\n",
            "Requirement already satisfied: safetensors in /usr/local/lib/python3.10/dist-packages (from timm>=0.4.12->torchgeo) (0.4.0)\n",
            "Collecting munch (from pretrainedmodels==0.7.4->segmentation-models-pytorch>=0.2->torchgeo)\n",
            "  Downloading munch-4.0.0-py2.py3-none-any.whl (9.9 kB)\n",
            "Requirement already satisfied: filelock in /usr/local/lib/python3.10/dist-packages (from torch>=1.12->torchgeo) (3.13.1)\n",
            "Requirement already satisfied: sympy in /usr/local/lib/python3.10/dist-packages (from torch>=1.12->torchgeo) (1.12)\n",
            "Requirement already satisfied: networkx in /usr/local/lib/python3.10/dist-packages (from torch>=1.12->torchgeo) (3.2.1)\n",
            "Requirement already satisfied: jinja2 in /usr/local/lib/python3.10/dist-packages (from torch>=1.12->torchgeo) (3.1.2)\n",
            "Requirement already satisfied: triton==2.1.0 in /usr/local/lib/python3.10/dist-packages (from torch>=1.12->torchgeo) (2.1.0)\n",
            "Requirement already satisfied: aiohttp!=4.0.0a0,!=4.0.0a1 in /usr/local/lib/python3.10/dist-packages (from fsspec[http]<2025.0,>2021.06.0->lightning[pytorch-extra]>=2->torchgeo) (3.8.6)\n",
            "Collecting antlr4-python3-runtime==4.9.* (from hydra-core>=1.0.0->lightly>=1.4.4->torchgeo)\n",
            "  Downloading antlr4-python3-runtime-4.9.3.tar.gz (117 kB)\n",
            "\u001b[2K     \u001b[90m━━━━━━━━━━━━━━━━━━━━━━━━━━━━━━━━━━━━━━━━\u001b[0m \u001b[32m117.0/117.0 kB\u001b[0m \u001b[31m13.3 MB/s\u001b[0m eta \u001b[36m0:00:00\u001b[0m\n",
            "\u001b[?25h  Preparing metadata (setup.py) ... \u001b[?25l\u001b[?25hdone\n",
            "Collecting docstring-parser>=0.15 (from jsonargparse[signatures]<5.0,>=4.18.0->lightning[pytorch-extra]>=2->torchgeo)\n",
            "  Downloading docstring_parser-0.15-py3-none-any.whl (36 kB)\n",
            "Collecting typeshed-client>=2.1.0 (from jsonargparse[signatures]<5.0,>=4.18.0->lightning[pytorch-extra]>=2->torchgeo)\n",
            "  Downloading typeshed_client-2.4.0-py3-none-any.whl (594 kB)\n",
            "\u001b[2K     \u001b[90m━━━━━━━━━━━━━━━━━━━━━━━━━━━━━━━━━━━━━━━━\u001b[0m \u001b[32m594.2/594.2 kB\u001b[0m \u001b[31m37.1 MB/s\u001b[0m eta \u001b[36m0:00:00\u001b[0m\n",
            "\u001b[?25hRequirement already satisfied: charset-normalizer<4,>=2 in /usr/local/lib/python3.10/dist-packages (from requests>=2.23.0->lightly>=1.4.4->torchgeo) (3.3.2)\n",
            "Requirement already satisfied: idna<4,>=2.5 in /usr/local/lib/python3.10/dist-packages (from requests>=2.23.0->lightly>=1.4.4->torchgeo) (3.4)\n",
            "Requirement already satisfied: markdown-it-py>=2.2.0 in /usr/local/lib/python3.10/dist-packages (from rich<14.0,>=12.3.0->lightning[pytorch-extra]>=2->torchgeo) (3.0.0)\n",
            "Requirement already satisfied: pygments<3.0.0,>=2.13.0 in /usr/local/lib/python3.10/dist-packages (from rich<14.0,>=12.3.0->lightning[pytorch-extra]>=2->torchgeo) (2.16.1)\n",
            "Requirement already satisfied: protobuf>=3.20 in /usr/local/lib/python3.10/dist-packages (from tensorboardX<3.0,>=2.2->lightning[pytorch-extra]>=2->torchgeo) (3.20.3)\n",
            "Requirement already satisfied: MarkupSafe>=2.0 in /usr/local/lib/python3.10/dist-packages (from jinja2->torch>=1.12->torchgeo) (2.1.3)\n",
            "Requirement already satisfied: mpmath>=0.19 in /usr/local/lib/python3.10/dist-packages (from sympy->torch>=1.12->torchgeo) (1.3.0)\n",
            "Requirement already satisfied: multidict<7.0,>=4.5 in /usr/local/lib/python3.10/dist-packages (from aiohttp!=4.0.0a0,!=4.0.0a1->fsspec[http]<2025.0,>2021.06.0->lightning[pytorch-extra]>=2->torchgeo) (6.0.4)\n",
            "Requirement already satisfied: async-timeout<5.0,>=4.0.0a3 in /usr/local/lib/python3.10/dist-packages (from aiohttp!=4.0.0a0,!=4.0.0a1->fsspec[http]<2025.0,>2021.06.0->lightning[pytorch-extra]>=2->torchgeo) (4.0.3)\n",
            "Requirement already satisfied: yarl<2.0,>=1.0 in /usr/local/lib/python3.10/dist-packages (from aiohttp!=4.0.0a0,!=4.0.0a1->fsspec[http]<2025.0,>2021.06.0->lightning[pytorch-extra]>=2->torchgeo) (1.9.2)\n",
            "Requirement already satisfied: frozenlist>=1.1.1 in /usr/local/lib/python3.10/dist-packages (from aiohttp!=4.0.0a0,!=4.0.0a1->fsspec[http]<2025.0,>2021.06.0->lightning[pytorch-extra]>=2->torchgeo) (1.4.0)\n",
            "Requirement already satisfied: aiosignal>=1.1.2 in /usr/local/lib/python3.10/dist-packages (from aiohttp!=4.0.0a0,!=4.0.0a1->fsspec[http]<2025.0,>2021.06.0->lightning[pytorch-extra]>=2->torchgeo) (1.3.1)\n",
            "Requirement already satisfied: mdurl~=0.1 in /usr/local/lib/python3.10/dist-packages (from markdown-it-py>=2.2.0->rich<14.0,>=12.3.0->lightning[pytorch-extra]>=2->torchgeo) (0.1.2)\n",
            "Requirement already satisfied: importlib-resources>=1.4.0 in /usr/local/lib/python3.10/dist-packages (from typeshed-client>=2.1.0->jsonargparse[signatures]<5.0,>=4.18.0->lightning[pytorch-extra]>=2->torchgeo) (6.1.1)\n",
            "Building wheels for collected packages: efficientnet-pytorch, pretrainedmodels, antlr4-python3-runtime\n",
            "  Building wheel for efficientnet-pytorch (setup.py) ... \u001b[?25l\u001b[?25hdone\n",
            "  Created wheel for efficientnet-pytorch: filename=efficientnet_pytorch-0.7.1-py3-none-any.whl size=16428 sha256=6ff010a1e73ca257fa6ae7fc757dc369117bf354d812dedb944e8f3862bc8b68\n",
            "  Stored in directory: /root/.cache/pip/wheels/03/3f/e9/911b1bc46869644912bda90a56bcf7b960f20b5187feea3baf\n",
            "  Building wheel for pretrainedmodels (setup.py) ... \u001b[?25l\u001b[?25hdone\n",
            "  Created wheel for pretrainedmodels: filename=pretrainedmodels-0.7.4-py3-none-any.whl size=60944 sha256=09a975914a5932a5175a1fef1c74680c8195a33868da24f7c8a2add7ce31a80f\n",
            "  Stored in directory: /root/.cache/pip/wheels/35/cb/a5/8f534c60142835bfc889f9a482e4a67e0b817032d9c6883b64\n",
            "  Building wheel for antlr4-python3-runtime (setup.py) ... \u001b[?25l\u001b[?25hdone\n",
            "  Created wheel for antlr4-python3-runtime: filename=antlr4_python3_runtime-4.9.3-py3-none-any.whl size=144555 sha256=00f746ff55617e210fc64a710fd2237188b3295705fe3898b5d32e57ee4d797e\n",
            "  Stored in directory: /root/.cache/pip/wheels/12/93/dd/1f6a127edc45659556564c5730f6d4e300888f4bca2d4c5a88\n",
            "Successfully built efficientnet-pytorch pretrainedmodels antlr4-python3-runtime\n",
            "Installing collected packages: bitsandbytes, antlr4-python3-runtime, aenum, typeshed-client, tensorboardX, snuggs, rtree, omegaconf, munch, lightning-utilities, lightly-utils, jsonargparse, einops, docstring-parser, affine, rasterio, hydra-core, torchmetrics, kornia, efficientnet-pytorch, timm, pytorch-lightning, pretrainedmodels, segmentation-models-pytorch, lightning, lightly, torchgeo\n",
            "Successfully installed aenum-3.1.15 affine-2.4.0 antlr4-python3-runtime-4.9.3 bitsandbytes-0.41.2.post2 docstring-parser-0.15 efficientnet-pytorch-0.7.1 einops-0.7.0 hydra-core-1.3.2 jsonargparse-4.27.1 kornia-0.7.0 lightly-1.4.23 lightly-utils-0.0.2 lightning-2.1.2 lightning-utilities-0.10.0 munch-4.0.0 omegaconf-2.3.0 pretrainedmodels-0.7.4 pytorch-lightning-2.1.2 rasterio-1.3.9 rtree-1.1.0 segmentation-models-pytorch-0.3.3 snuggs-1.4.7 tensorboardX-2.6.2.2 timm-0.9.2 torchgeo-0.5.1 torchmetrics-1.2.0 typeshed-client-2.4.0\n"
          ]
        },
        {
          "output_type": "display_data",
          "data": {
            "application/vnd.colab-display-data+json": {
              "pip_warning": {
                "packages": [
                  "pydevd_plugins"
                ]
              }
            }
          },
          "metadata": {}
        }
      ],
      "source": [
        "!pip install torchgeo"
      ]
    },
    {
      "cell_type": "code",
      "source": [
        "import os\n",
        "import tempfile\n",
        "from torch import nn\n",
        "from torch.utils.data import DataLoader\n",
        "from torchvision.datasets import MNIST\n",
        "from torchgeo.datasets import NAIP,RasterDataset, ChesapeakeDE, stack_samples\n",
        "from torchgeo.samplers import RandomGeoSampler, BatchGeoSampler, GridGeoSampler\n",
        "from torchgeo.datasets.utils import download_url\n"
      ],
      "metadata": {
        "id": "SW3pllQTS5cZ"
      },
      "execution_count": 2,
      "outputs": []
    },
    {
      "cell_type": "code",
      "source": [
        "naip_root = os.path.join(tempfile.gettempdir(), \"naip\")\n",
        "naip_url = (\n",
        "    \"https://naipeuwest.blob.core.windows.net/naip/v002/de/2018/de_060cm_2018/38075/\"\n",
        ")\n",
        "tiles = [\n",
        "    \"m_3807511_ne_18_060_20181104.tif\",\n",
        "    \"m_3807511_se_18_060_20181104.tif\",\n",
        "    \"m_3807512_nw_18_060_20180815.tif\",\n",
        "    \"m_3807512_sw_18_060_20180815.tif\",\n",
        "]\n",
        "for tile in tiles:\n",
        "    download_url(naip_url + tile, naip_root)\n",
        "\n",
        "naip = NAIP(naip_root)"
      ],
      "metadata": {
        "colab": {
          "base_uri": "https://localhost:8080/"
        },
        "id": "1lM7DdmaT6Tg",
        "outputId": "2443e3b7-9c23-4e3e-d637-44371dfa1326"
      },
      "execution_count": 3,
      "outputs": [
        {
          "output_type": "stream",
          "name": "stdout",
          "text": [
            "Downloading https://naipeuwest.blob.core.windows.net/naip/v002/de/2018/de_060cm_2018/38075/m_3807511_ne_18_060_20181104.tif to /tmp/naip/m_3807511_ne_18_060_20181104.tif\n"
          ]
        },
        {
          "output_type": "stream",
          "name": "stderr",
          "text": [
            "100%|██████████| 513332284/513332284 [00:53<00:00, 9603584.59it/s]\n"
          ]
        },
        {
          "output_type": "stream",
          "name": "stdout",
          "text": [
            "Downloading https://naipeuwest.blob.core.windows.net/naip/v002/de/2018/de_060cm_2018/38075/m_3807511_se_18_060_20181104.tif to /tmp/naip/m_3807511_se_18_060_20181104.tif\n"
          ]
        },
        {
          "output_type": "stream",
          "name": "stderr",
          "text": [
            "100%|██████████| 521985441/521985441 [00:45<00:00, 11396331.69it/s]\n"
          ]
        },
        {
          "output_type": "stream",
          "name": "stdout",
          "text": [
            "Downloading https://naipeuwest.blob.core.windows.net/naip/v002/de/2018/de_060cm_2018/38075/m_3807512_nw_18_060_20180815.tif to /tmp/naip/m_3807512_nw_18_060_20180815.tif\n"
          ]
        },
        {
          "output_type": "stream",
          "name": "stderr",
          "text": [
            "100%|██████████| 489865657/489865657 [00:45<00:00, 10807855.90it/s]\n"
          ]
        },
        {
          "output_type": "stream",
          "name": "stdout",
          "text": [
            "Downloading https://naipeuwest.blob.core.windows.net/naip/v002/de/2018/de_060cm_2018/38075/m_3807512_sw_18_060_20180815.tif to /tmp/naip/m_3807512_sw_18_060_20180815.tif\n"
          ]
        },
        {
          "output_type": "stream",
          "name": "stderr",
          "text": [
            "100%|██████████| 484476647/484476647 [00:53<00:00, 9070351.13it/s]\n"
          ]
        }
      ]
    },
    {
      "cell_type": "code",
      "source": [
        "chesapeake_root = os.path.join(tempfile.gettempdir(), \"chesapeake\")\n",
        "os.makedirs(chesapeake_root, exist_ok=True)\n",
        "chesapeake = ChesapeakeDE(chesapeake_root, crs=naip.crs, res=naip.res, download=True)"
      ],
      "metadata": {
        "id": "lsY0LZsiUbKY",
        "colab": {
          "base_uri": "https://localhost:8080/"
        },
        "outputId": "62b36159-d838-48b9-fb05-1e4bb882fba5"
      },
      "execution_count": 4,
      "outputs": [
        {
          "output_type": "stream",
          "name": "stdout",
          "text": [
            "Downloading https://cicwebresources.blob.core.windows.net/chesapeakebaylandcover/DE/_DE_STATEWIDE.zip to /tmp/chesapeake/_DE_STATEWIDE.zip\n"
          ]
        },
        {
          "output_type": "stream",
          "name": "stderr",
          "text": [
            "100%|██████████| 287350495/287350495 [00:11<00:00, 25720054.09it/s]\n"
          ]
        }
      ]
    },
    {
      "cell_type": "code",
      "source": [
        "dataset = naip&chesapeake\n"
      ],
      "metadata": {
        "id": "V1CKRK9oUlgW"
      },
      "execution_count": 5,
      "outputs": []
    },
    {
      "cell_type": "code",
      "source": [
        "sampler = RandomGeoSampler(dataset, size=256, length=500)\n",
        "\n",
        "image_tensors = DataLoader(dataset, sampler=sampler, batch_size=10, collate_fn=stack_samples)\n"
      ],
      "metadata": {
        "id": "TRp0eiwGUv-q"
      },
      "execution_count": 6,
      "outputs": []
    },
    {
      "cell_type": "code",
      "source": [
        "i = 0\n",
        "for batch in image_tensors:\n",
        "  if i>0:\n",
        "    break\n",
        "  print( batch['mask'].shape)\n",
        "  i=i+1"
      ],
      "metadata": {
        "colab": {
          "base_uri": "https://localhost:8080/"
        },
        "id": "AFCJXd5AVVgo",
        "outputId": "09ac567b-e074-44ea-97fd-8d7f11002ada"
      },
      "execution_count": null,
      "outputs": [
        {
          "output_type": "stream",
          "name": "stdout",
          "text": [
            "torch.Size([10, 1, 256, 256])\n"
          ]
        }
      ]
    },
    {
      "cell_type": "code",
      "source": [
        "random_images = iter(image_tensors)\n",
        "data = next(random_images)\n",
        "images = data['label']\n",
        "print(images)"
      ],
      "metadata": {
        "colab": {
          "base_uri": "https://localhost:8080/"
        },
        "id": "XTWLJN3VoMCX",
        "outputId": "becf8d3b-f0e2-4f1d-e349-d55d2d80e36e"
      },
      "execution_count": null,
      "outputs": [
        {
          "output_type": "stream",
          "name": "stdout",
          "text": [
            "[]\n"
          ]
        }
      ]
    },
    {
      "cell_type": "code",
      "source": [
        "random_images = iter(image_tensors)\n",
        "data = next(random_images)\n",
        "images = data['image']\n",
        "print(data['image'].shape)\n",
        "conv1 = nn.Conv2d(4, 32 , (3,3))\n",
        "x = conv1(images)\n",
        "print(x.shape)\n",
        "maxpool = nn.MaxPool2d(2, 2)\n",
        "x = maxpool(x)\n",
        "print(x.shape)\n",
        "conv2 = nn.Conv2d(32, 32, (3,3))\n",
        "x = conv2(x)\n",
        "print(x.shape)\n",
        "x=maxpool(x)\n",
        "print(x.shape)\n",
        "flatten=nn.Flatten()\n",
        "x = flatten(x)\n",
        "print(x.shape)\n",
        "linear1 = nn.Linear(32*62*62, 120)\n",
        "x = linear1(x)\n",
        "print(x.shape)"
      ],
      "metadata": {
        "colab": {
          "base_uri": "https://localhost:8080/"
        },
        "id": "Mg6FzVb5Vdwf",
        "outputId": "2119347b-b40f-454f-956e-a86d3b902a7c"
      },
      "execution_count": null,
      "outputs": [
        {
          "output_type": "stream",
          "name": "stdout",
          "text": [
            "torch.Size([10, 4, 256, 256])\n",
            "torch.Size([10, 32, 254, 254])\n",
            "torch.Size([10, 32, 127, 127])\n",
            "torch.Size([10, 32, 125, 125])\n",
            "torch.Size([10, 32, 62, 62])\n",
            "torch.Size([10, 123008])\n",
            "torch.Size([10, 120])\n"
          ]
        }
      ]
    },
    {
      "cell_type": "code",
      "source": [
        "random_images = iter(dataloader)\n",
        "data = next(random_images)\n",
        "images = data['image']\n",
        "print(data['image'].shape)\n",
        "conv1 = nn.Conv2d(4, 32 , (3,3))\n",
        "x = conv1(images)\n",
        "print(x.shape)\n",
        "maxpool = nn.MaxPool2d(2, 2)\n",
        "x = maxpool(x)\n",
        "print(x.shape)\n",
        "conv2 = nn.Conv2d(32, 32, (3,3))\n",
        "x = conv2(x)\n",
        "print(x.shape)\n",
        "x=maxpool(x)\n",
        "print(x.shape)\n",
        "flatten=nn.Flatten()\n",
        "x = flatten(x)\n",
        "print(x.shape)\n",
        "linear1 = nn.Linear(32*62*62, 120)\n",
        "x = linear1(x)\n",
        "print(x.shape)"
      ],
      "metadata": {
        "colab": {
          "base_uri": "https://localhost:8080/"
        },
        "id": "92o9AgjY1akj",
        "outputId": "65481bcf-bbb5-4358-ae58-110782e438df"
      },
      "execution_count": null,
      "outputs": [
        {
          "output_type": "stream",
          "name": "stdout",
          "text": [
            "torch.Size([8, 4, 256, 256])\n",
            "torch.Size([8, 32, 254, 254])\n",
            "torch.Size([8, 32, 127, 127])\n",
            "torch.Size([8, 32, 125, 125])\n",
            "torch.Size([8, 32, 62, 62])\n",
            "torch.Size([8, 123008])\n",
            "torch.Size([8, 120])\n"
          ]
        }
      ]
    },
    {
      "cell_type": "code",
      "source": [
        "# Define U-Net architecture\n",
        "class UNet(nn.Module):\n",
        "    def __init__(self, in_channels, out_channels):\n",
        "        super(UNet, self).__init__()\n",
        "\n",
        "        self.encoder = nn.Sequential(\n",
        "            nn.Conv2d(in_channels, 64, kernel_size=3, padding=1),\n",
        "            nn.ReLU(inplace=True),\n",
        "            nn.Conv2d(64, 64, kernel_size=3, padding=1),\n",
        "            nn.ReLU(inplace=True),\n",
        "            nn.MaxPool2d(kernel_size=2, stride=2)\n",
        "        )\n",
        "\n",
        "        self.middle = nn.Sequential(\n",
        "            nn.Conv2d(64, 128, kernel_size=3, padding=1),\n",
        "            nn.ReLU(inplace=True),\n",
        "            nn.Conv2d(128, 128, kernel_size=3, padding=1),\n",
        "            nn.ReLU(inplace=True),\n",
        "            nn.MaxPool2d(kernel_size=2, stride=2)\n",
        "        )\n",
        "\n",
        "        self.decoder = nn.Sequential(\n",
        "            nn.Conv2d(128, 64, kernel_size=3, padding=1),\n",
        "            nn.ReLU(inplace=True),\n",
        "            nn.Conv2d(64, 64, kernel_size=3, padding=1),\n",
        "            nn.ReLU(inplace=True),\n",
        "            nn.ConvTranspose2d(64, out_channels, kernel_size=2, stride=2)\n",
        "        )\n",
        "\n",
        "    def forward(self, x):\n",
        "        x1 = self.encoder(x)\n",
        "        x2 = self.middle(x1)\n",
        "        x3 = self.decoder(x2)\n",
        "        return x3"
      ],
      "metadata": {
        "id": "m0iulUgOmQ4X"
      },
      "execution_count": 7,
      "outputs": []
    },
    {
      "cell_type": "code",
      "source": [
        "import torch"
      ],
      "metadata": {
        "id": "iJeubj1frh9W"
      },
      "execution_count": 12,
      "outputs": []
    },
    {
      "cell_type": "code",
      "source": [
        "model = torch.hub.load('mateuszbuda/brain-segmentation-pytorch', 'unet',\n",
        "    in_channels=4, out_channels=13, init_features=32)"
      ],
      "metadata": {
        "colab": {
          "base_uri": "https://localhost:8080/"
        },
        "id": "4Yh_VDDrrb_J",
        "outputId": "08b49ab9-18b3-4285-b030-a469f4bfeca0"
      },
      "execution_count": 13,
      "outputs": [
        {
          "output_type": "stream",
          "name": "stderr",
          "text": [
            "/usr/local/lib/python3.10/dist-packages/torch/hub.py:294: UserWarning: You are about to download and run code from an untrusted repository. In a future release, this won't be allowed. To add the repository to your trusted list, change the command to {calling_fn}(..., trust_repo=False) and a command prompt will appear asking for an explicit confirmation of trust, or load(..., trust_repo=True), which will assume that the prompt is to be answered with 'yes'. You can also use load(..., trust_repo='check') which will only prompt for confirmation if the repo is not already trusted. This will eventually be the default behaviour\n",
            "  warnings.warn(\n",
            "Downloading: \"https://github.com/mateuszbuda/brain-segmentation-pytorch/zipball/master\" to /root/.cache/torch/hub/master.zip\n"
          ]
        }
      ]
    },
    {
      "cell_type": "code",
      "source": [
        "import torch.optim as optim\n",
        "\n",
        "# Instantiate the model, loss function, and optimizer\n",
        "# model = UNet(in_channels=4, out_channels=13)  # Adjust in_channels and out_channels based on your task\n",
        "# Define loss function and optimizer\n",
        "criterion = nn.CrossEntropyLoss()\n",
        "optimizer = optim.Adam(model.parameters(), lr=0.001)\n",
        "\n",
        "# Training loop\n",
        "num_epochs = 10\n",
        "\n",
        "for epoch in range(num_epochs):\n",
        "    model.train()\n",
        "\n",
        "    for data in image_tensors:\n",
        "        inputs=data['image']\n",
        "        targets=data['mask'][:,0,...]\n",
        "        optimizer.zero_grad()\n",
        "        outputs = model(inputs)\n",
        "        print(inputs.shape,targets.shape,outputs.shape)\n",
        "        loss = criterion(outputs, targets)\n",
        "        loss.backward()\n",
        "        optimizer.step()\n",
        "\n",
        "    print(f'Epoch {epoch + 1}/{num_epochs}, Loss: {loss.item()}')\n"
      ],
      "metadata": {
        "colab": {
          "base_uri": "https://localhost:8080/"
        },
        "id": "nJOvq61MmJ_f",
        "outputId": "496c15dd-ffc3-45a0-8233-2dc8e18636bc"
      },
      "execution_count": null,
      "outputs": [
        {
          "output_type": "stream",
          "name": "stdout",
          "text": [
            "torch.Size([10, 4, 256, 256]) torch.Size([10, 256, 256]) torch.Size([10, 13, 256, 256])\n",
            "torch.Size([10, 4, 256, 256]) torch.Size([10, 256, 256]) torch.Size([10, 13, 256, 256])\n",
            "torch.Size([10, 4, 256, 256]) torch.Size([10, 256, 256]) torch.Size([10, 13, 256, 256])\n",
            "torch.Size([10, 4, 256, 256]) torch.Size([10, 256, 256]) torch.Size([10, 13, 256, 256])\n",
            "torch.Size([10, 4, 256, 256]) torch.Size([10, 256, 256]) torch.Size([10, 13, 256, 256])\n",
            "torch.Size([10, 4, 256, 256]) torch.Size([10, 256, 256]) torch.Size([10, 13, 256, 256])\n",
            "torch.Size([10, 4, 256, 256]) torch.Size([10, 256, 256]) torch.Size([10, 13, 256, 256])\n",
            "torch.Size([10, 4, 256, 256]) torch.Size([10, 256, 256]) torch.Size([10, 13, 256, 256])\n",
            "torch.Size([10, 4, 256, 256]) torch.Size([10, 256, 256]) torch.Size([10, 13, 256, 256])\n",
            "torch.Size([10, 4, 256, 256]) torch.Size([10, 256, 256]) torch.Size([10, 13, 256, 256])\n",
            "torch.Size([10, 4, 256, 256]) torch.Size([10, 256, 256]) torch.Size([10, 13, 256, 256])\n",
            "torch.Size([10, 4, 256, 256]) torch.Size([10, 256, 256]) torch.Size([10, 13, 256, 256])\n",
            "torch.Size([10, 4, 256, 256]) torch.Size([10, 256, 256]) torch.Size([10, 13, 256, 256])\n",
            "torch.Size([10, 4, 256, 256]) torch.Size([10, 256, 256]) torch.Size([10, 13, 256, 256])\n",
            "torch.Size([10, 4, 256, 256]) torch.Size([10, 256, 256]) torch.Size([10, 13, 256, 256])\n",
            "torch.Size([10, 4, 256, 256]) torch.Size([10, 256, 256]) torch.Size([10, 13, 256, 256])\n",
            "torch.Size([10, 4, 256, 256]) torch.Size([10, 256, 256]) torch.Size([10, 13, 256, 256])\n",
            "torch.Size([10, 4, 256, 256]) torch.Size([10, 256, 256]) torch.Size([10, 13, 256, 256])\n",
            "torch.Size([10, 4, 256, 256]) torch.Size([10, 256, 256]) torch.Size([10, 13, 256, 256])\n",
            "torch.Size([10, 4, 256, 256]) torch.Size([10, 256, 256]) torch.Size([10, 13, 256, 256])\n",
            "torch.Size([10, 4, 256, 256]) torch.Size([10, 256, 256]) torch.Size([10, 13, 256, 256])\n",
            "torch.Size([10, 4, 256, 256]) torch.Size([10, 256, 256]) torch.Size([10, 13, 256, 256])\n",
            "torch.Size([10, 4, 256, 256]) torch.Size([10, 256, 256]) torch.Size([10, 13, 256, 256])\n",
            "torch.Size([10, 4, 256, 256]) torch.Size([10, 256, 256]) torch.Size([10, 13, 256, 256])\n",
            "torch.Size([10, 4, 256, 256]) torch.Size([10, 256, 256]) torch.Size([10, 13, 256, 256])\n",
            "torch.Size([10, 4, 256, 256]) torch.Size([10, 256, 256]) torch.Size([10, 13, 256, 256])\n",
            "torch.Size([10, 4, 256, 256]) torch.Size([10, 256, 256]) torch.Size([10, 13, 256, 256])\n",
            "torch.Size([10, 4, 256, 256]) torch.Size([10, 256, 256]) torch.Size([10, 13, 256, 256])\n",
            "torch.Size([10, 4, 256, 256]) torch.Size([10, 256, 256]) torch.Size([10, 13, 256, 256])\n",
            "torch.Size([10, 4, 256, 256]) torch.Size([10, 256, 256]) torch.Size([10, 13, 256, 256])\n",
            "torch.Size([10, 4, 256, 256]) torch.Size([10, 256, 256]) torch.Size([10, 13, 256, 256])\n",
            "torch.Size([10, 4, 256, 256]) torch.Size([10, 256, 256]) torch.Size([10, 13, 256, 256])\n",
            "torch.Size([10, 4, 256, 256]) torch.Size([10, 256, 256]) torch.Size([10, 13, 256, 256])\n",
            "torch.Size([10, 4, 256, 256]) torch.Size([10, 256, 256]) torch.Size([10, 13, 256, 256])\n"
          ]
        }
      ]
    }
  ]
}
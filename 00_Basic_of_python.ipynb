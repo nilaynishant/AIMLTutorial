{
  "nbformat": 4,
  "nbformat_minor": 0,
  "metadata": {
    "colab": {
      "provenance": [],
      "authorship_tag": "ABX9TyMlBvqtwM9lh3IAvHTjqNM/",
      "include_colab_link": true
    },
    "kernelspec": {
      "name": "python3",
      "display_name": "Python 3"
    },
    "language_info": {
      "name": "python"
    }
  },
  "cells": [
    {
      "cell_type": "markdown",
      "metadata": {
        "id": "view-in-github",
        "colab_type": "text"
      },
      "source": [
        "<a href=\"https://colab.research.google.com/github/nilaynishant/AIMLTutorial/blob/main/00_Basic_of_python.ipynb\" target=\"_parent\"><img src=\"https://colab.research.google.com/assets/colab-badge.svg\" alt=\"Open In Colab\"/></a>"
      ]
    },
    {
      "cell_type": "markdown",
      "source": [
        "#  Python Basics Notebook\n",
        "## Part 1: Variables and Data Types\n"
      ],
      "metadata": {
        "id": "st826-ym2AIG"
      }
    },
    {
      "cell_type": "code",
      "execution_count": null,
      "metadata": {
        "id": "xaFIws8_16ZY"
      },
      "outputs": [],
      "source": [
        "# %% [code]\n",
        "# Basic data types\n",
        "name = \"Alice\"          # String\n",
        "age = 28                # Integer\n",
        "height = 1.75           # Float\n",
        "is_student = True       # Boolean\n",
        "\n",
        "# Display values\n",
        "print(\"Name:\", name)\n",
        "print(\"Age:\", age)\n",
        "print(\"Height:\", height, \"meters\")\n",
        "print(\"Is student?\", is_student)\n",
        "\n",
        "# Check data types\n",
        "print(\"\\nData types:\")\n",
        "print(type(name))\n",
        "print(type(age))\n",
        "print(type(height))\n",
        "print(type(is_student))"
      ]
    },
    {
      "cell_type": "markdown",
      "source": [],
      "metadata": {
        "id": "4VWLCspQ2OgZ"
      }
    },
    {
      "cell_type": "markdown",
      "source": [
        "\n",
        "## Part 2: Basic Operations\n",
        "\n",
        "\n",
        "# Arithmetic operations"
      ],
      "metadata": {
        "id": "ZIOpBpGq2Q2n"
      }
    },
    {
      "cell_type": "code",
      "source": [
        "a = 15\n",
        "b = 4\n",
        "\n",
        "print(\"Addition:\", a + b)\n",
        "print(\"Subtraction:\", a - b)\n",
        "print(\"Multiplication:\", a * b)\n",
        "print(\"Division:\", a / b)\n",
        "print(\"Floor Division:\", a // b)\n",
        "print(\"Exponent:\", a ** 2)\n",
        "print(\"Modulus (remainder):\", a % b)\n",
        "\n",
        "# String operations\n",
        "first_name = \"John\"\n",
        "last_name = \"Doe\"\n",
        "full_name = first_name + \" \" + last_name\n",
        "print(\"\\nFull name:\", full_name)\n",
        "print(\"Repeated name:\", first_name * 3)\n",
        "print(\"Name length:\", len(full_name))"
      ],
      "metadata": {
        "id": "ttUOT8ia2Pf6"
      },
      "execution_count": null,
      "outputs": []
    },
    {
      "cell_type": "markdown",
      "source": [
        "## Part 3: Lists and Dictionaries"
      ],
      "metadata": {
        "id": "2Hc-h3Rz2evQ"
      }
    },
    {
      "cell_type": "code",
      "source": [
        "fruits = [\"apple\", \"banana\", \"cherry\"]\n",
        "print(\"Original list:\", fruits)\n",
        "\n",
        "# List operations\n",
        "fruits.append(\"orange\")\n",
        "print(\"After append:\", fruits)\n",
        "print(\"First fruit:\", fruits[0])\n",
        "print(\"Last fruit:\", fruits[-1])\n",
        "print(\"Sliced list:\", fruits[1:3])\n",
        "\n",
        "# Dictionaries (key-value pairs)\n",
        "person = {\n",
        "    \"name\": \"Alice\",\n",
        "    \"age\": 30,\n",
        "    \"occupation\": \"Engineer\"\n",
        "}\n",
        "\n",
        "print(\"\\nDictionary:\")\n",
        "print(\"Name:\", person[\"name\"])\n",
        "print(\"Occupation:\", person.get(\"occupation\", \"Not specified\"))\n",
        "\n",
        "# Add new key\n",
        "person[\"city\"] = \"New York\"\n",
        "print(\"Updated dictionary:\", person)"
      ],
      "metadata": {
        "id": "nQi_la932YpI"
      },
      "execution_count": null,
      "outputs": []
    },
    {
      "cell_type": "markdown",
      "source": [
        "## Part 4: Control Flow"
      ],
      "metadata": {
        "id": "XbIM7R9s2kpd"
      }
    },
    {
      "cell_type": "code",
      "source": [
        "# If-elif-else statements\n",
        "temperature = 22\n",
        "\n",
        "if temperature > 30:\n",
        "    print(\"It's hot!\")\n",
        "elif 20 <= temperature <= 30:\n",
        "    print(\"Perfect weather!\")\n",
        "else:\n",
        "    print(\"It's cold!\")\n",
        "\n",
        "# For loop\n",
        "print(\"\\nCounting:\")\n",
        "for i in range(1, 6):\n",
        "    print(i)\n",
        "\n",
        "print(\"\\nFruits list:\")\n",
        "for fruit in fruits:\n",
        "    print(f\"I like {fruit}\")\n",
        "\n",
        "# While loop\n",
        "print(\"\\nCountdown:\")\n",
        "count = 5\n",
        "while count > 0:\n",
        "    print(count)\n",
        "    count -= 1\n",
        "print(\"Blast off!\")"
      ],
      "metadata": {
        "id": "xDTe82Su2j2q"
      },
      "execution_count": null,
      "outputs": []
    },
    {
      "cell_type": "markdown",
      "source": [
        "## Part 5: Functions"
      ],
      "metadata": {
        "id": "g1ZJIuse2pqC"
      }
    },
    {
      "cell_type": "code",
      "source": [
        "# Basic function\n",
        "def greet(name):\n",
        "    return \"Hello, \" + name + \"!\"\n",
        "\n",
        "print(greet(\"Alice\"))\n",
        "\n",
        "# Function with default parameter\n",
        "def calculate_area(length, width=5):\n",
        "    return length * width\n",
        "\n",
        "print(\"Rectangle area:\", calculate_area(10))\n",
        "print(\"Custom rectangle:\", calculate_area(7, 3))"
      ],
      "metadata": {
        "id": "8nBtCgyu2qSJ"
      },
      "execution_count": null,
      "outputs": []
    }
  ]
}
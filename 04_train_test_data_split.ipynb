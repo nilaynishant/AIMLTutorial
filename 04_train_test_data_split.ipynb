{
  "nbformat": 4,
  "nbformat_minor": 0,
  "metadata": {
    "colab": {
      "provenance": [],
      "authorship_tag": "ABX9TyMX4BsOMO4AypYxtifG2TZS",
      "include_colab_link": true
    },
    "kernelspec": {
      "name": "python3",
      "display_name": "Python 3"
    },
    "language_info": {
      "name": "python"
    }
  },
  "cells": [
    {
      "cell_type": "markdown",
      "metadata": {
        "id": "view-in-github",
        "colab_type": "text"
      },
      "source": [
        "<a href=\"https://colab.research.google.com/github/nilaynishant/AIMLTutorial/blob/main/04_train_test_data_split.ipynb\" target=\"_parent\"><img src=\"https://colab.research.google.com/assets/colab-badge.svg\" alt=\"Open In Colab\"/></a>"
      ]
    },
    {
      "cell_type": "code",
      "execution_count": 13,
      "metadata": {
        "id": "hKAcu7L_kp35"
      },
      "outputs": [],
      "source": [
        "# run this only if you have not installed the requried packages\n",
        "!pip install -q rasterio\n",
        "!pip install -q geopandas\n",
        "!pip install -q gitpython"
      ]
    },
    {
      "cell_type": "code",
      "source": [
        "import os\n",
        "import rasterio as rio\n",
        "from rasterio.plot import show\n",
        "import geopandas as gpd\n",
        "import fiona\n",
        "import matplotlib.pyplot as plt\n",
        "import seaborn as sns\n",
        "import numpy as np\n",
        "import pandas as pd\n",
        "\n",
        "import git\n",
        "\n",
        "repo_url = 'https://github.com/nilaynishant/AIMLTutorial.git'  # set the URL of the repository\n",
        "repo_dir = 'https://github.com/nilaynishant/AIMLTutorial/tree/main/Data'  # set the path to the local repository directory\n",
        "if not os.path.exists('https://github.com/nilaynishant/AIMLTutorial/tree/main/Data'):\n",
        "  git.Repo.clone_from(repo_url, repo_dir)\n",
        "# variables \n",
        "# Note: labels should be always last column with name \"labels\"\n",
        "# Note: Make sure input labels shapefile and input raster have same CRS, otherwise code will not run\n",
        "\n",
        "# input files\n",
        "raster_loc = '/content/https:/github.com/nilaynishant/AIMLTutorial/tree/main/Data/Data/Sentinel2_Agartala.tif'\n",
        "points_loc = '/content/https:/github.com/nilaynishant/AIMLTutorial/tree/main/Data/Data/Training.gpkg'\n",
        "temp_point_loc = '/content/https:/github.com/nilaynishant/AIMLTutorial/tree/main/Data/Data/temp_y_points.shp'\n",
        "\n",
        "# land cover names (for post visualization)\n",
        "lulc_name = ['Vegetation', 'Builtup', 'Water', 'Agriculture','Fallow']\n",
        "\n",
        "#  reading bands from input\n",
        "with rio.open(raster_loc) as img:\n",
        "    bands = (img.read()).shape[0]\n",
        "print('Bands of input image: ', bands)\n",
        "\n",
        "# using ilteration to automatically create a bands list\n",
        "\n",
        "features = []\n",
        "for i in range(bands):\n",
        "    features.append('band'+str(i+1))\n",
        "print('Bands names: ', features)\n",
        "f_len = len(features)\n",
        "\n",
        "points = gpd.read_file(points_loc)\n",
        "# adding a new column 'id' with range of points\n",
        "points = points.assign(id1=range(len(points)))\n",
        "# saving nenw point file with 'id'\n",
        "points.to_file(temp_point_loc) \n",
        "# converting gdf to pd df and removing geometry\n",
        "points_df = pd.DataFrame(points.drop(columns='geometry'))\n",
        "# ilterating over multiband raster\n",
        "sampled = pd.Series()\n",
        "\n",
        "#inputShape= temp_point_loc\n",
        "# Read input shapefile with fiona and iterate over each feature\n",
        "with fiona.open(temp_point_loc) as shp:\n",
        "    for feature in shp:\n",
        "        siteID = feature['properties']['id1']\n",
        "        coords = feature['geometry']['coordinates']\n",
        "        # Read pixel value at the given coordinates using Rasterio\n",
        "        # NB: `sample()` returns an iterable of ndarrays.\n",
        "        with rio.open(raster_loc) as stack_src:\n",
        "                  value = [v for v in stack_src.sample([coords])]\n",
        "        # Update the pandas serie accordingly\n",
        "        sampled.loc[siteID] = value\n",
        "# reshaping sampled values\n",
        "df1 = pd.DataFrame(sampled.values.tolist(), index=sampled.index)\n",
        "df1['id'] = df1.index\n",
        "df1 = pd.DataFrame(df1[0].values.tolist(), \n",
        "                   columns=features)\n",
        "df1['id'] = df1.index\n",
        "\n",
        "data = pd.merge(df1, points_df, on ='id')\n",
        "print('Sampled Data: \\n',data)\n",
        "\n",
        "x = data.iloc[:,0:f_len]\n",
        "X = x.values\n",
        "y = data.iloc[:,-2]\n",
        "Y = y.values"
      ],
      "metadata": {
        "colab": {
          "base_uri": "https://localhost:8080/"
        },
        "id": "k5o1K6FhlE_3",
        "outputId": "3959460d-917f-4c08-d3f5-fbcf36c66914"
      },
      "execution_count": 18,
      "outputs": [
        {
          "output_type": "stream",
          "name": "stdout",
          "text": [
            "Bands of input image:  4\n",
            "Bands names:  ['band1', 'band2', 'band3', 'band4']\n"
          ]
        },
        {
          "output_type": "stream",
          "name": "stderr",
          "text": [
            "<ipython-input-18-42b9967352e5>:50: FutureWarning: The default dtype for empty Series will be 'object' instead of 'float64' in a future version. Specify a dtype explicitly to silence this warning.\n",
            "  sampled = pd.Series()\n"
          ]
        },
        {
          "output_type": "stream",
          "name": "stdout",
          "text": [
            "Sampled Data: \n",
            "      band1  band2  band3  band4  id  id1\n",
            "0   2664.0  500.0  601.0  446.0   1    0\n",
            "1   2664.0  500.0  601.0  446.0   1    1\n",
            "2   2664.0  500.0  601.0  446.0   1    2\n",
            "3   2664.0  500.0  601.0  446.0   1    3\n",
            "4   2664.0  500.0  601.0  446.0   1    4\n",
            "5   2664.0  500.0  601.0  446.0   1    5\n",
            "6   2664.0  500.0  601.0  446.0   1    6\n",
            "7   2664.0  500.0  601.0  446.0   1    7\n",
            "8   2664.0  500.0  601.0  446.0   1    8\n",
            "9   2664.0  500.0  601.0  446.0   1    9\n",
            "10  2628.0  451.0  577.0  433.0   2   10\n",
            "11  2628.0  451.0  577.0  433.0   2   11\n",
            "12  2628.0  451.0  577.0  433.0   2   12\n",
            "13  2628.0  451.0  577.0  433.0   2   13\n",
            "14  2628.0  451.0  577.0  433.0   2   14\n",
            "15  2628.0  451.0  577.0  433.0   2   15\n",
            "16  2628.0  451.0  577.0  433.0   2   16\n",
            "17  2628.0  451.0  577.0  433.0   2   17\n",
            "18  2628.0  451.0  577.0  433.0   2   18\n",
            "19  2628.0  451.0  577.0  433.0   2   19\n",
            "20  2335.0  481.0  613.0  476.0   3   20\n",
            "21  2335.0  481.0  613.0  476.0   3   21\n",
            "22  2335.0  481.0  613.0  476.0   3   22\n",
            "23  2335.0  481.0  613.0  476.0   3   23\n",
            "24  2335.0  481.0  613.0  476.0   3   24\n",
            "25  2335.0  481.0  613.0  476.0   3   25\n",
            "26  2335.0  481.0  613.0  476.0   3   26\n",
            "27  2335.0  481.0  613.0  476.0   3   27\n",
            "28  2335.0  481.0  613.0  476.0   3   28\n",
            "29  2335.0  481.0  613.0  476.0   3   29\n",
            "30  2535.0  679.0  795.0  607.0   4   30\n",
            "31  2535.0  679.0  795.0  607.0   4   31\n",
            "32  2535.0  679.0  795.0  607.0   4   32\n",
            "33  2535.0  679.0  795.0  607.0   4   33\n",
            "34  2535.0  679.0  795.0  607.0   4   34\n",
            "35  2535.0  679.0  795.0  607.0   4   35\n",
            "36  2535.0  679.0  795.0  607.0   4   36\n",
            "37  2535.0  679.0  795.0  607.0   4   37\n",
            "38  2535.0  679.0  795.0  607.0   4   38\n",
            "39  2535.0  679.0  795.0  607.0   4   39\n",
            "40  2535.0  679.0  795.0  607.0   4   40\n",
            "41  2535.0  679.0  795.0  607.0   4   41\n",
            "42  2839.0  449.0  575.0  472.0   5   42\n",
            "43  2839.0  449.0  575.0  472.0   5   43\n",
            "44  2839.0  449.0  575.0  472.0   5   44\n",
            "45  2839.0  449.0  575.0  472.0   5   45\n",
            "46  2839.0  449.0  575.0  472.0   5   46\n",
            "47  2839.0  449.0  575.0  472.0   5   47\n",
            "48  2839.0  449.0  575.0  472.0   5   48\n",
            "49  2839.0  449.0  575.0  472.0   5   49\n",
            "50  2839.0  449.0  575.0  472.0   5   50\n"
          ]
        }
      ]
    },
    {
      "cell_type": "code",
      "source": [
        "import sklearn\n",
        "from sklearn.metrics import classification_report, accuracy_score\n",
        "from sklearn.model_selection import train_test_split"
      ],
      "metadata": {
        "id": "IfdtRKOgla44"
      },
      "execution_count": 5,
      "outputs": []
    },
    {
      "cell_type": "code",
      "source": [
        "X_train, X_test, y_train, y_test = train_test_split(X, Y, test_size=0.30, stratify = Y)\n",
        "\n",
        "print(f'X_train Shape: {X_train.shape}\\nX_test Shape: {X_test.shape}\\ny_train Shape: {y_train.shape}\\ny_test Shape:{y_test.shape}')"
      ],
      "metadata": {
        "colab": {
          "base_uri": "https://localhost:8080/"
        },
        "id": "h72h3EM6lglQ",
        "outputId": "02fafb5e-f267-4c05-a0fe-acd95be773ff"
      },
      "execution_count": 19,
      "outputs": [
        {
          "output_type": "stream",
          "name": "stdout",
          "text": [
            "X_train Shape: (35, 4)\n",
            "X_test Shape: (16, 4)\n",
            "y_train Shape: (35,)\n",
            "y_test Shape:(16,)\n"
          ]
        }
      ]
    },
    {
      "cell_type": "code",
      "source": [],
      "metadata": {
        "id": "ReuuREoolpEg"
      },
      "execution_count": null,
      "outputs": []
    }
  ]
}
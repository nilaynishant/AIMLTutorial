{
  "nbformat": 4,
  "nbformat_minor": 0,
  "metadata": {
    "colab": {
      "provenance": [],
      "authorship_tag": "ABX9TyMQWcuDARnvTqZrQDOVdiXA",
      "include_colab_link": true
    },
    "kernelspec": {
      "name": "python3",
      "display_name": "Python 3"
    },
    "language_info": {
      "name": "python"
    }
  },
  "cells": [
    {
      "cell_type": "markdown",
      "metadata": {
        "id": "view-in-github",
        "colab_type": "text"
      },
      "source": [
        "<a href=\"https://colab.research.google.com/github/nilaynishant/AIMLTutorial/blob/main/04_train_test_data_split.ipynb\" target=\"_parent\"><img src=\"https://colab.research.google.com/assets/colab-badge.svg\" alt=\"Open In Colab\"/></a>"
      ]
    },
    {
      "cell_type": "code",
      "execution_count": null,
      "metadata": {
        "id": "hKAcu7L_kp35"
      },
      "outputs": [],
      "source": [
        "# run this only if you have not installed the requried packages\n",
        "!pip install rasterio\n",
        "!pip install geopandas\n",
        "!pip install gitpython"
      ]
    },
    {
      "cell_type": "code",
      "source": [
        "import os\n",
        "import rasterio as rio\n",
        "from rasterio.plot import show\n",
        "import geopandas as gpd\n",
        "import fiona\n",
        "import matplotlib.pyplot as plt\n",
        "import seaborn as sns\n",
        "import numpy as np\n",
        "import pandas as pd\n",
        "\n",
        "import git\n",
        "\n",
        "repo_url = 'https://github.com/waleedgeo/lulc_py.git'  # set the URL of the repository\n",
        "repo_dir = 'https://github.com/waleedgeo/lulc_py/tree/main/materials'  # set the path to the local repository directory\n",
        "if not os.path.exists('/content/https:/github.com/waleedgeo/lulc_py/tree/main/materials/'):\n",
        "  git.Repo.clone_from(repo_url, repo_dir)\n",
        "# variables \n",
        "# Note: labels should be always last column with name \"labels\"\n",
        "# Note: Make sure input labels shapefile and input raster have same CRS, otherwise code will not run\n",
        "\n",
        "# input files\n",
        "raster_loc = '/content/https:/github.com/waleedgeo/lulc_py/tree/main/materials/materials/rasters/s2image.tif'\n",
        "points_loc = '/content/https:/github.com/waleedgeo/lulc_py/tree/main/materials/materials/shapefiles/samples.shp'\n",
        "temp_point_loc = '/content/https:/github.com/waleedgeo/lulc_py/tree/main/materials/materials/temp/temp_y_points.shp'\n",
        "\n",
        "# land cover names (for post visualization)\n",
        "lulc_name = ['Water', 'Dense Veg', 'Veg', 'Impervious']\n",
        "\n",
        "#  reading bands from input\n",
        "with rio.open(raster_loc) as img:\n",
        "    bands = (img.read()).shape[0]\n",
        "print('Bands of input image: ', bands)\n",
        "\n",
        "# using ilteration to automatically create a bands list\n",
        "\n",
        "features = []\n",
        "for i in range(bands):\n",
        "    features.append('band'+str(i+1))\n",
        "print('Bands names: ', features)\n",
        "f_len = len(features)\n",
        "\n",
        "points = gpd.read_file(points_loc)\n",
        "# adding a new column 'id' with range of points\n",
        "points = points.assign(id=range(len(points)))\n",
        "# saving nenw point file with 'id'\n",
        "points.to_file(temp_point_loc) \n",
        "# converting gdf to pd df and removing geometry\n",
        "points_df = pd.DataFrame(points.drop(columns='geometry'))\n",
        "\n",
        "# ilterating over multiband raster\n",
        "sampled = pd.Series()\n",
        "\n",
        "#inputShape= temp_point_loc\n",
        "# Read input shapefile with fiona and iterate over each feature\n",
        "with fiona.open(temp_point_loc) as shp:\n",
        "    for feature in shp:\n",
        "        siteID = feature['properties']['id']\n",
        "        coords = feature['geometry']['coordinates']\n",
        "        # Read pixel value at the given coordinates using Rasterio\n",
        "        # NB: `sample()` returns an iterable of ndarrays.\n",
        "        with rio.open(raster_loc) as stack_src:\n",
        "                  value = [v for v in stack_src.sample([coords])]\n",
        "        # Update the pandas serie accordingly\n",
        "        sampled.loc[siteID] = value\n",
        "\n",
        "# reshaping sampled values\n",
        "df1 = pd.DataFrame(sampled.values.tolist(), index=sampled.index)\n",
        "df1['id'] = df1.index\n",
        "df1 = pd.DataFrame(df1[0].values.tolist(), \n",
        "                   columns=features)\n",
        "df1['id'] = df1.index\n",
        "\n",
        "data = pd.merge(df1, points_df, on ='id')\n",
        "print('Sampled Data: \\n',data)\n",
        "\n",
        "x = data.iloc[:,0:f_len]\n",
        "X = x.values\n",
        "y = data.iloc[:,-1]\n",
        "Y = y.values"
      ],
      "metadata": {
        "colab": {
          "base_uri": "https://localhost:8080/"
        },
        "id": "k5o1K6FhlE_3",
        "outputId": "8503a425-899b-4939-c410-6b9548874d1f"
      },
      "execution_count": null,
      "outputs": [
        {
          "output_type": "stream",
          "name": "stdout",
          "text": [
            "Bands of input image:  4\n",
            "Bands names:  ['band1', 'band2', 'band3', 'band4']\n"
          ]
        },
        {
          "output_type": "stream",
          "name": "stderr",
          "text": [
            "<ipython-input-2-225aaaa15ed1>:51: FutureWarning: The default dtype for empty Series will be 'object' instead of 'float64' in a future version. Specify a dtype explicitly to silence this warning.\n",
            "  sampled = pd.Series()\n"
          ]
        },
        {
          "output_type": "stream",
          "name": "stdout",
          "text": [
            "Sampled Data: \n",
            "       band1   band2   band3   band4   id  labels\n",
            "0    0.0268  0.0404  0.0228  0.0100    0     1.0\n",
            "1    0.0284  0.0430  0.0248  0.0111    1     1.0\n",
            "2    0.0272  0.0402  0.0234  0.0107    2     1.0\n",
            "3    0.0258  0.0408  0.0231  0.0099    3     1.0\n",
            "4    0.0248  0.0436  0.0228  0.0107    4     1.0\n",
            "..      ...     ...     ...     ...  ...     ...\n",
            "116  0.1066  0.1080  0.1208  0.1368  116     4.0\n",
            "117  0.1022  0.1092  0.1192  0.1432  117     4.0\n",
            "118  0.3632  0.3724  0.3644  0.3596  118     4.0\n",
            "119  0.0849  0.0797  0.0773  0.0918  119     4.0\n",
            "120  0.0818  0.0902  0.0934  0.1130  120     4.0\n",
            "\n",
            "[121 rows x 6 columns]\n"
          ]
        }
      ]
    },
    {
      "cell_type": "code",
      "source": [
        "import sklearn\n",
        "from sklearn.metrics import classification_report, accuracy_score\n",
        "from sklearn.model_selection import train_test_split"
      ],
      "metadata": {
        "id": "IfdtRKOgla44"
      },
      "execution_count": null,
      "outputs": []
    },
    {
      "cell_type": "code",
      "source": [
        "X_train, X_test, y_train, y_test = train_test_split(X, Y, test_size=0.30, stratify = Y)\n",
        "\n",
        "print(f'X_train Shape: {X_train.shape}\\nX_test Shape: {X_test.shape}\\ny_train Shape: {y_train.shape}\\ny_test Shape:{y_test.shape}')"
      ],
      "metadata": {
        "colab": {
          "base_uri": "https://localhost:8080/"
        },
        "id": "h72h3EM6lglQ",
        "outputId": "968b0ebe-2b33-4ae6-b0a2-95573bacbe78"
      },
      "execution_count": null,
      "outputs": [
        {
          "output_type": "stream",
          "name": "stdout",
          "text": [
            "X_train Shape: (84, 4)\n",
            "X_test Shape: (37, 4)\n",
            "y_train Shape: (84,)\n",
            "y_test Shape:(37,)\n"
          ]
        }
      ]
    },
    {
      "cell_type": "code",
      "source": [],
      "metadata": {
        "id": "ReuuREoolpEg"
      },
      "execution_count": null,
      "outputs": []
    }
  ]
}
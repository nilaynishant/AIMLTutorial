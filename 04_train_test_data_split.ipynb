{
  "nbformat": 4,
  "nbformat_minor": 0,
  "metadata": {
    "colab": {
      "provenance": [],
      "authorship_tag": "ABX9TyM90atocqb+bN+W+2sIe6yx",
      "include_colab_link": true
    },
    "kernelspec": {
      "name": "python3",
      "display_name": "Python 3"
    },
    "language_info": {
      "name": "python"
    }
  },
  "cells": [
    {
      "cell_type": "markdown",
      "metadata": {
        "id": "view-in-github",
        "colab_type": "text"
      },
      "source": [
        "<a href=\"https://colab.research.google.com/github/nilaynishant/AIMLTutorial/blob/main/04_train_test_data_split.ipynb\" target=\"_parent\"><img src=\"https://colab.research.google.com/assets/colab-badge.svg\" alt=\"Open In Colab\"/></a>"
      ]
    },
    {
      "cell_type": "code",
      "execution_count": 1,
      "metadata": {
        "id": "hKAcu7L_kp35",
        "outputId": "b5b19f99-75a6-435a-e30c-e9367aac802c",
        "colab": {
          "base_uri": "https://localhost:8080/"
        }
      },
      "outputs": [
        {
          "output_type": "stream",
          "name": "stdout",
          "text": [
            "\u001b[2K     \u001b[90m━━━━━━━━━━━━━━━━━━━━━━━━━━━━━━━━━━━━━━━━\u001b[0m \u001b[32m21.5/21.5 MB\u001b[0m \u001b[31m15.7 MB/s\u001b[0m eta \u001b[36m0:00:00\u001b[0m\n",
            "\u001b[2K     \u001b[90m━━━━━━━━━━━━━━━━━━━━━━━━━━━━━━━━━━━━━━━━\u001b[0m \u001b[32m207.3/207.3 kB\u001b[0m \u001b[31m3.0 MB/s\u001b[0m eta \u001b[36m0:00:00\u001b[0m\n",
            "\u001b[2K     \u001b[90m━━━━━━━━━━━━━━━━━━━━━━━━━━━━━━━━━━━━━━━━\u001b[0m \u001b[32m62.7/62.7 kB\u001b[0m \u001b[31m5.7 MB/s\u001b[0m eta \u001b[36m0:00:00\u001b[0m\n",
            "\u001b[?25h"
          ]
        }
      ],
      "source": [
        "# run this only if you have not installed the requried packages\n",
        "!pip install -q rasterio\n",
        "!pip install -q geopandas\n",
        "!pip install -q gitpython"
      ]
    },
    {
      "cell_type": "code",
      "source": [
        "import os\n",
        "import geopandas as gpd\n",
        "import pandas as pd\n",
        "import rasterio\n",
        "import git\n",
        "\n",
        "repo_url = 'https://github.com/nilaynishant/AIMLTutorial.git'  # set the URL of the repository\n",
        "repo_dir = 'https://github.com/nilaynishant/AIMLTutorial/tree/main/Data'  # set the path to the local repository directory\n",
        "if not os.path.exists('https://github.com/nilaynishant/AIMLTutorial/tree/main/Data'):\n",
        "  git.Repo.clone_from(repo_url, repo_dir)\n",
        "# variables\n",
        "# Note: labels should be always last column with name \"labels\"\n",
        "# Note: Make sure input labels shapefile and input raster have same CRS, otherwise code will not run\n",
        "\n",
        "# input files\n",
        "raster_loc = '/content/https:/github.com/nilaynishant/AIMLTutorial/tree/main/Data/Data/Sentinel2_Agartala.tif'\n",
        "points_loc = '/content/https:/github.com/nilaynishant/AIMLTutorial/tree/main/Data/Data/Training.gpkg'\n",
        "temp_point_loc = '/content/https:/github.com/nilaynishant/AIMLTutorial/tree/main/Data/Data/temp_y_points.shp'\n",
        "\n",
        "\n",
        "\n",
        "def get_features(raster_path, shapefile_path):\n",
        "    # Load the raster data\n",
        "    with rasterio.open(raster_path) as src:\n",
        "        # Load the point data shapefile\n",
        "        points = gpd.read_file(shapefile_path)\n",
        "\n",
        "        # List to collect data\n",
        "        data = []\n",
        "\n",
        "        # Iterate through each point in the GeoDataFrame\n",
        "        for _, point in points.iterrows():\n",
        "            # Sample the raster at the point coordinates\n",
        "            for val in src.sample([(point.geometry.x, point.geometry.y)]):\n",
        "                # Prepare the record containing the point properties and raster values\n",
        "                record = point.to_dict()\n",
        "                # Update record with raster values; assuming raster has multiple bands\n",
        "                record.update({f'Band_{i+1}_value': val[i] for i in range(len(val))})\n",
        "                data.append(record)\n",
        "\n",
        "        # Convert the list of dictionaries to a DataFrame\n",
        "        return pd.DataFrame(data)\n",
        "\n",
        "# Specify the path to your raster and shapefile\n",
        "raster_path = raster_loc\n",
        "shapefile_path = points_loc\n",
        "\n",
        "# Extract the features and display as a DataFrame\n",
        "df_features = get_features(raster_path, shapefile_path)\n",
        "df_features\n",
        "\n",
        "x = df_features.iloc[:,2:]\n",
        "X = x.values\n",
        "y = df_features.iloc[:,0]\n",
        "Y = y.values"
      ],
      "metadata": {
        "id": "k5o1K6FhlE_3"
      },
      "execution_count": 2,
      "outputs": []
    },
    {
      "cell_type": "markdown",
      "source": [
        "# Train Test Split"
      ],
      "metadata": {
        "id": "IScHtQH4e7LW"
      }
    },
    {
      "cell_type": "code",
      "source": [
        "import sklearn\n",
        "from sklearn.metrics import classification_report, accuracy_score\n",
        "from sklearn.model_selection import train_test_split"
      ],
      "metadata": {
        "id": "IfdtRKOgla44"
      },
      "execution_count": 3,
      "outputs": []
    },
    {
      "cell_type": "code",
      "source": [
        "X_train, X_test, y_train, y_test = train_test_split(X, Y, test_size=0.30, stratify = Y)\n",
        "\n",
        "print(f'X_train Shape: {X_train.shape}\\nX_test Shape: {X_test.shape}\\ny_train Shape: {y_train.shape}\\ny_test Shape:{y_test.shape}')"
      ],
      "metadata": {
        "id": "h72h3EM6lglQ",
        "outputId": "5510d39d-3ab6-4195-caab-6d2dd4a0b12d",
        "colab": {
          "base_uri": "https://localhost:8080/"
        }
      },
      "execution_count": 4,
      "outputs": [
        {
          "output_type": "stream",
          "name": "stdout",
          "text": [
            "X_train Shape: (35, 4)\n",
            "X_test Shape: (16, 4)\n",
            "y_train Shape: (35,)\n",
            "y_test Shape:(16,)\n"
          ]
        }
      ]
    },
    {
      "cell_type": "code",
      "source": [],
      "metadata": {
        "id": "ReuuREoolpEg"
      },
      "execution_count": null,
      "outputs": []
    }
  ]
}
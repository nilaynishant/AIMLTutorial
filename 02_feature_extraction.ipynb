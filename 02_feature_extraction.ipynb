{
  "nbformat": 4,
  "nbformat_minor": 0,
  "metadata": {
    "colab": {
      "provenance": [],
      "authorship_tag": "ABX9TyPcSKGWk8om6fHJPQUw5VAQ",
      "include_colab_link": true
    },
    "kernelspec": {
      "name": "python3",
      "display_name": "Python 3"
    },
    "language_info": {
      "name": "python"
    }
  },
  "cells": [
    {
      "cell_type": "markdown",
      "metadata": {
        "id": "view-in-github",
        "colab_type": "text"
      },
      "source": [
        "<a href=\"https://colab.research.google.com/github/nilaynishant/AIMLTutorial/blob/main/02_feature_extraction.ipynb\" target=\"_parent\"><img src=\"https://colab.research.google.com/assets/colab-badge.svg\" alt=\"Open In Colab\"/></a>"
      ]
    },
    {
      "cell_type": "code",
      "execution_count": null,
      "metadata": {
        "id": "d2f58EL9Y8dv"
      },
      "outputs": [],
      "source": [
        "# run this only if you have not installed the requried packages\n",
        "!pip install rasterio\n",
        "!pip install geopandas\n",
        "!pip install gitpython"
      ]
    },
    {
      "cell_type": "markdown",
      "source": [
        "# 1-Feature Extraction\n",
        "## Load libraries"
      ],
      "metadata": {
        "id": "j3tLcYMxZahj"
      }
    },
    {
      "cell_type": "code",
      "source": [
        "import os\n",
        "import rasterio as rio\n",
        "from rasterio.plot import show\n",
        "import geopandas as gpd\n",
        "import fiona\n",
        "import matplotlib.pyplot as plt\n",
        "import numpy as np\n",
        "import pandas as pd"
      ],
      "metadata": {
        "id": "ktxXlUrVZV8j"
      },
      "execution_count": 29,
      "outputs": []
    },
    {
      "cell_type": "code",
      "source": [
        "import git\n",
        "\n",
        "repo_url = 'https://github.com/nilaynishant/AIMLTutorial.git'  # set the URL of the repository\n",
        "repo_dir = 'https://github.com/nilaynishant/AIMLTutorial/tree/main/Data'  # set the path to the local repository directory\n",
        "\n",
        "git.Repo.clone_from(repo_url, repo_dir)\n",
        "\n",
        "# # Optional: checkout a specific branch or commit\n",
        "# repo = git.Repo(repo_dir)\n",
        "# repo.git.checkout('branch_name_or_commit_hash')\n"
      ],
      "metadata": {
        "colab": {
          "base_uri": "https://localhost:8080/",
          "height": 496
        },
        "id": "NdhPviCtcCHw",
        "outputId": "0d5b3b4b-4917-4ab7-cf28-6739ab11287c"
      },
      "execution_count": 30,
      "outputs": [
        {
          "output_type": "error",
          "ename": "GitCommandError",
          "evalue": "ignored",
          "traceback": [
            "\u001b[0;31m---------------------------------------------------------------------------\u001b[0m",
            "\u001b[0;31mGitCommandError\u001b[0m                           Traceback (most recent call last)",
            "\u001b[0;32m<ipython-input-30-aeafd4405b30>\u001b[0m in \u001b[0;36m<cell line: 6>\u001b[0;34m()\u001b[0m\n\u001b[1;32m      4\u001b[0m \u001b[0mrepo_dir\u001b[0m \u001b[0;34m=\u001b[0m \u001b[0;34m'https://github.com/nilaynishant/AIMLTutorial/tree/main/Data'\u001b[0m  \u001b[0;31m# set the path to the local repository directory\u001b[0m\u001b[0;34m\u001b[0m\u001b[0;34m\u001b[0m\u001b[0m\n\u001b[1;32m      5\u001b[0m \u001b[0;34m\u001b[0m\u001b[0m\n\u001b[0;32m----> 6\u001b[0;31m \u001b[0mgit\u001b[0m\u001b[0;34m.\u001b[0m\u001b[0mRepo\u001b[0m\u001b[0;34m.\u001b[0m\u001b[0mclone_from\u001b[0m\u001b[0;34m(\u001b[0m\u001b[0mrepo_url\u001b[0m\u001b[0;34m,\u001b[0m \u001b[0mrepo_dir\u001b[0m\u001b[0;34m)\u001b[0m\u001b[0;34m\u001b[0m\u001b[0;34m\u001b[0m\u001b[0m\n\u001b[0m\u001b[1;32m      7\u001b[0m \u001b[0;34m\u001b[0m\u001b[0m\n\u001b[1;32m      8\u001b[0m \u001b[0;31m# # Optional: checkout a specific branch or commit\u001b[0m\u001b[0;34m\u001b[0m\u001b[0;34m\u001b[0m\u001b[0m\n",
            "\u001b[0;32m/usr/local/lib/python3.9/dist-packages/git/repo/base.py\u001b[0m in \u001b[0;36mclone_from\u001b[0;34m(cls, url, to_path, progress, env, multi_options, allow_unsafe_protocols, allow_unsafe_options, **kwargs)\u001b[0m\n\u001b[1;32m   1323\u001b[0m         \u001b[0;32mif\u001b[0m \u001b[0menv\u001b[0m \u001b[0;32mis\u001b[0m \u001b[0;32mnot\u001b[0m \u001b[0;32mNone\u001b[0m\u001b[0;34m:\u001b[0m\u001b[0;34m\u001b[0m\u001b[0;34m\u001b[0m\u001b[0m\n\u001b[1;32m   1324\u001b[0m             \u001b[0mgit\u001b[0m\u001b[0;34m.\u001b[0m\u001b[0mupdate_environment\u001b[0m\u001b[0;34m(\u001b[0m\u001b[0;34m**\u001b[0m\u001b[0menv\u001b[0m\u001b[0;34m)\u001b[0m\u001b[0;34m\u001b[0m\u001b[0;34m\u001b[0m\u001b[0m\n\u001b[0;32m-> 1325\u001b[0;31m         return cls._clone(\n\u001b[0m\u001b[1;32m   1326\u001b[0m             \u001b[0mgit\u001b[0m\u001b[0;34m,\u001b[0m\u001b[0;34m\u001b[0m\u001b[0;34m\u001b[0m\u001b[0m\n\u001b[1;32m   1327\u001b[0m             \u001b[0murl\u001b[0m\u001b[0;34m,\u001b[0m\u001b[0;34m\u001b[0m\u001b[0;34m\u001b[0m\u001b[0m\n",
            "\u001b[0;32m/usr/local/lib/python3.9/dist-packages/git/repo/base.py\u001b[0m in \u001b[0;36m_clone\u001b[0;34m(cls, git, url, path, odb_default_type, progress, multi_options, allow_unsafe_protocols, allow_unsafe_options, **kwargs)\u001b[0m\n\u001b[1;32m   1232\u001b[0m \u001b[0;34m\u001b[0m\u001b[0m\n\u001b[1;32m   1233\u001b[0m             \u001b[0mlog\u001b[0m\u001b[0;34m.\u001b[0m\u001b[0mdebug\u001b[0m\u001b[0;34m(\u001b[0m\u001b[0;34m\"Cmd(%s)'s unused stdout: %s\"\u001b[0m\u001b[0;34m,\u001b[0m \u001b[0mcmdline\u001b[0m\u001b[0;34m,\u001b[0m \u001b[0mstdout\u001b[0m\u001b[0;34m)\u001b[0m\u001b[0;34m\u001b[0m\u001b[0;34m\u001b[0m\u001b[0m\n\u001b[0;32m-> 1234\u001b[0;31m             \u001b[0mfinalize_process\u001b[0m\u001b[0;34m(\u001b[0m\u001b[0mproc\u001b[0m\u001b[0;34m,\u001b[0m \u001b[0mstderr\u001b[0m\u001b[0;34m=\u001b[0m\u001b[0mstderr\u001b[0m\u001b[0;34m)\u001b[0m\u001b[0;34m\u001b[0m\u001b[0;34m\u001b[0m\u001b[0m\n\u001b[0m\u001b[1;32m   1235\u001b[0m \u001b[0;34m\u001b[0m\u001b[0m\n\u001b[1;32m   1236\u001b[0m         \u001b[0;31m# our git command could have a different working dir than our actual\u001b[0m\u001b[0;34m\u001b[0m\u001b[0;34m\u001b[0m\u001b[0m\n",
            "\u001b[0;32m/usr/local/lib/python3.9/dist-packages/git/util.py\u001b[0m in \u001b[0;36mfinalize_process\u001b[0;34m(proc, **kwargs)\u001b[0m\n\u001b[1;32m    417\u001b[0m     \u001b[0;34m\"\"\"Wait for the process (clone, fetch, pull or push) and handle its errors accordingly\"\"\"\u001b[0m\u001b[0;34m\u001b[0m\u001b[0;34m\u001b[0m\u001b[0m\n\u001b[1;32m    418\u001b[0m     \u001b[0;31m# TODO: No close proc-streams??\u001b[0m\u001b[0;34m\u001b[0m\u001b[0;34m\u001b[0m\u001b[0m\n\u001b[0;32m--> 419\u001b[0;31m     \u001b[0mproc\u001b[0m\u001b[0;34m.\u001b[0m\u001b[0mwait\u001b[0m\u001b[0;34m(\u001b[0m\u001b[0;34m**\u001b[0m\u001b[0mkwargs\u001b[0m\u001b[0;34m)\u001b[0m\u001b[0;34m\u001b[0m\u001b[0;34m\u001b[0m\u001b[0m\n\u001b[0m\u001b[1;32m    420\u001b[0m \u001b[0;34m\u001b[0m\u001b[0m\n\u001b[1;32m    421\u001b[0m \u001b[0;34m\u001b[0m\u001b[0m\n",
            "\u001b[0;32m/usr/local/lib/python3.9/dist-packages/git/cmd.py\u001b[0m in \u001b[0;36mwait\u001b[0;34m(self, stderr)\u001b[0m\n\u001b[1;32m    602\u001b[0m                 \u001b[0merrstr\u001b[0m \u001b[0;34m=\u001b[0m \u001b[0mread_all_from_possibly_closed_stream\u001b[0m\u001b[0;34m(\u001b[0m\u001b[0mp_stderr\u001b[0m\u001b[0;34m)\u001b[0m\u001b[0;34m\u001b[0m\u001b[0;34m\u001b[0m\u001b[0m\n\u001b[1;32m    603\u001b[0m                 \u001b[0mlog\u001b[0m\u001b[0;34m.\u001b[0m\u001b[0mdebug\u001b[0m\u001b[0;34m(\u001b[0m\u001b[0;34m\"AutoInterrupt wait stderr: %r\"\u001b[0m \u001b[0;34m%\u001b[0m \u001b[0;34m(\u001b[0m\u001b[0merrstr\u001b[0m\u001b[0;34m,\u001b[0m\u001b[0;34m)\u001b[0m\u001b[0;34m)\u001b[0m\u001b[0;34m\u001b[0m\u001b[0;34m\u001b[0m\u001b[0m\n\u001b[0;32m--> 604\u001b[0;31m                 \u001b[0;32mraise\u001b[0m \u001b[0mGitCommandError\u001b[0m\u001b[0;34m(\u001b[0m\u001b[0mremove_password_if_present\u001b[0m\u001b[0;34m(\u001b[0m\u001b[0mself\u001b[0m\u001b[0;34m.\u001b[0m\u001b[0margs\u001b[0m\u001b[0;34m)\u001b[0m\u001b[0;34m,\u001b[0m \u001b[0mstatus\u001b[0m\u001b[0;34m,\u001b[0m \u001b[0merrstr\u001b[0m\u001b[0;34m)\u001b[0m\u001b[0;34m\u001b[0m\u001b[0;34m\u001b[0m\u001b[0m\n\u001b[0m\u001b[1;32m    605\u001b[0m             \u001b[0;32mreturn\u001b[0m \u001b[0mstatus\u001b[0m\u001b[0;34m\u001b[0m\u001b[0;34m\u001b[0m\u001b[0m\n\u001b[1;32m    606\u001b[0m \u001b[0;34m\u001b[0m\u001b[0m\n",
            "\u001b[0;31mGitCommandError\u001b[0m: Cmd('git') failed due to: exit code(128)\n  cmdline: git clone -v -- https://github.com/nilaynishant/AIMLTutorial.git https://github.com/nilaynishant/AIMLTutorial/tree/main/Data\n  stderr: 'fatal: destination path 'https://github.com/nilaynishant/AIMLTutorial/tree/main/Data' already exists and is not an empty directory.\n'"
          ]
        }
      ]
    },
    {
      "cell_type": "code",
      "source": [
        "# variables \n",
        "# Note: labels should be always last column with name \"labels\"\n",
        "# Note: Make sure input labels shapefile and input raster have same CRS, otherwise code will not run\n",
        "\n",
        "# input files\n",
        "raster_loc = '/content/https:/github.com/nilaynishant/AIMLTutorial/tree/main/Data/Data/Sentinel2_Agartala.tif'\n",
        "points_loc = '/content/https:/github.com/nilaynishant/AIMLTutorial/tree/main/Data/Data/Training.gpkg'\n",
        "temp_point_loc = '/content/https:/github.com/nilaynishant/AIMLTutorial/tree/main/Data/Data/temp_y_points.shp'\n",
        "\n",
        "# land cover names (for post visualization)\n",
        "lulc_name = ['Vegetation', 'Builtup', 'Water', 'Agriculture','Fallow']"
      ],
      "metadata": {
        "id": "k5vmDw_caD_S"
      },
      "execution_count": 31,
      "outputs": []
    },
    {
      "cell_type": "code",
      "source": [
        "src = rio.open(raster_loc)\n",
        "\n",
        "blue = src.read(4, masked=True)\n",
        "green = src.read(3, masked=True)\n",
        "red = src.read(2, masked=True)\n",
        "nir = src.read(1, masked=True)\n",
        "\n",
        "def normalize(array):\n",
        "    \"\"\"Normalizes numpy arrays into scale 0.0 - 1.0\"\"\"\n",
        "    array_min, array_max = array.min(), array.max()\n",
        "    return ((array - array_min)/(array_max - array_min))\n",
        "\n",
        "# Normalize the bands\n",
        "redn = normalize(red)\n",
        "greenn = normalize(green)\n",
        "bluen = normalize(blue)\n",
        "nirn = normalize(nir)"
      ],
      "metadata": {
        "id": "00y8yWmicoiv"
      },
      "execution_count": 32,
      "outputs": []
    },
    {
      "cell_type": "code",
      "source": [
        "#  reading bands from input\n",
        "with rio.open(raster_loc) as img:\n",
        "    bands = (img.read()).shape[0]\n",
        "print('Bands of input image: ', bands)\n",
        "\n",
        "# using ilteration to automatically create a bands list\n",
        "\n",
        "features = []\n",
        "for i in range(bands):\n",
        "    features.append('band'+str(i+1))\n",
        "print('Bands names: ', features)\n",
        "f_len = len(features)\n",
        "print(f_len)\n",
        "points = gpd.read_file(points_loc)\n",
        "# # adding a new column 'id' with range of points\n",
        "# points = points.assign(id=range(len(points)))\n",
        "# # saving nenw point file with 'id'\n",
        "points.to_file(temp_point_loc) \n",
        "# # converting gdf to pd df and removing geometry\n",
        "points_df = pd.DataFrame(points.drop(columns='geometry'))\n",
        "# # ilterating over multiband raster\n",
        "sampled = pd.Series()\n",
        "print(sampled)\n",
        "# #inputShape= temp_point_loc\n",
        "# # Read input shapefile with fiona and iterate over each feature\n",
        "with fiona.open(temp_point_loc) as shp:\n",
        "    for feature in shp:\n",
        "        siteID = feature['properties']['id']\n",
        "        coords = feature['geometry']['coordinates']\n",
        "        # Read pixel value at the given coordinates using Rasterio\n",
        "        # NB: `sample()` returns an iterable of ndarrays.\n",
        "        with rio.open(raster_loc) as stack_src:\n",
        "                  value = [v for v in stack_src.sample([coords])]\n",
        "        # Update the pandas serie accordingly\n",
        "        sampled.loc[siteID] = value\n",
        "\n",
        "# # reshaping sampled values\n",
        "df1 = pd.DataFrame(sampled.values.tolist(), index=sampled.index)\n",
        "df1['id'] = df1.index\n",
        "df1 = pd.DataFrame(df1[0].values.tolist(), \n",
        "                   columns=features)\n",
        "df1['id'] = df1.index\n",
        "\n",
        "data = pd.merge(df1, points_df, on ='id')\n",
        "print('Sampled Data: \\n',data)\n",
        "\n",
        "x = data.iloc[:,0:f_len]\n",
        "X = x.values\n",
        "y = data.iloc[:,-1]\n",
        "Y = y.values"
      ],
      "metadata": {
        "colab": {
          "base_uri": "https://localhost:8080/"
        },
        "id": "AjQnmdsq09bb",
        "outputId": "63f6c75f-d00e-4c85-8eda-287d3e94f5fe"
      },
      "execution_count": 33,
      "outputs": [
        {
          "output_type": "stream",
          "name": "stdout",
          "text": [
            "Bands of input image:  4\n",
            "Bands names:  ['band1', 'band2', 'band3', 'band4']\n",
            "4\n",
            "Series([], dtype: float64)\n"
          ]
        },
        {
          "output_type": "stream",
          "name": "stderr",
          "text": [
            "<ipython-input-33-37373b1bd8b2>:22: FutureWarning: The default dtype for empty Series will be 'object' instead of 'float64' in a future version. Specify a dtype explicitly to silence this warning.\n",
            "  sampled = pd.Series()\n"
          ]
        },
        {
          "output_type": "stream",
          "name": "stdout",
          "text": [
            "Sampled Data: \n",
            "      band1   band2   band3  band4  id\n",
            "0   1691.0  1102.0  1050.0  903.0   1\n",
            "1   1691.0  1102.0  1050.0  903.0   1\n",
            "2   1691.0  1102.0  1050.0  903.0   1\n",
            "3   1691.0  1102.0  1050.0  903.0   1\n",
            "4   1691.0  1102.0  1050.0  903.0   1\n",
            "5   1691.0  1102.0  1050.0  903.0   1\n",
            "6   1691.0  1102.0  1050.0  903.0   1\n",
            "7   1691.0  1102.0  1050.0  903.0   1\n",
            "8   1691.0  1102.0  1050.0  903.0   1\n",
            "9   1691.0  1102.0  1050.0  903.0   1\n",
            "10   936.0   802.0  1052.0  774.0   2\n",
            "11   936.0   802.0  1052.0  774.0   2\n",
            "12   936.0   802.0  1052.0  774.0   2\n",
            "13   936.0   802.0  1052.0  774.0   2\n",
            "14   936.0   802.0  1052.0  774.0   2\n",
            "15   936.0   802.0  1052.0  774.0   2\n",
            "16   936.0   802.0  1052.0  774.0   2\n",
            "17   936.0   802.0  1052.0  774.0   2\n",
            "18   936.0   802.0  1052.0  774.0   2\n",
            "19   936.0   802.0  1052.0  774.0   2\n",
            "20  3721.0   906.0   996.0  691.0   3\n",
            "21  3721.0   906.0   996.0  691.0   3\n",
            "22  3721.0   906.0   996.0  691.0   3\n",
            "23  3721.0   906.0   996.0  691.0   3\n",
            "24  3721.0   906.0   996.0  691.0   3\n",
            "25  3721.0   906.0   996.0  691.0   3\n",
            "26  3721.0   906.0   996.0  691.0   3\n",
            "27  3721.0   906.0   996.0  691.0   3\n",
            "28  3721.0   906.0   996.0  691.0   3\n",
            "29  3721.0   906.0   996.0  691.0   3\n",
            "30  2012.0  1022.0   869.0  689.0   4\n",
            "31  2012.0  1022.0   869.0  689.0   4\n",
            "32  2012.0  1022.0   869.0  689.0   4\n",
            "33  2012.0  1022.0   869.0  689.0   4\n",
            "34  2012.0  1022.0   869.0  689.0   4\n",
            "35  2012.0  1022.0   869.0  689.0   4\n",
            "36  2012.0  1022.0   869.0  689.0   4\n",
            "37  2012.0  1022.0   869.0  689.0   4\n",
            "38  2012.0  1022.0   869.0  689.0   4\n",
            "39  2012.0  1022.0   869.0  689.0   4\n",
            "40  2012.0  1022.0   869.0  689.0   4\n",
            "41  2012.0  1022.0   869.0  689.0   4\n"
          ]
        }
      ]
    },
    {
      "cell_type": "markdown",
      "source": [
        "## Train Test data split"
      ],
      "metadata": {
        "id": "OBCRwrdSdWLY"
      }
    },
    {
      "cell_type": "code",
      "source": [
        "from sklearn.model_selection import train_test_split\n",
        "\n",
        "X_train, X_test, y_train, y_test = train_test_split(X, Y, test_size=0.30, stratify = Y)\n",
        "\n",
        "print(f'X_train Shape: {X_train.shape}\\nX_test Shape: {X_test.shape}\\ny_train Shape: {y_train.shape}\\ny_test Shape:{y_test.shape}')"
      ],
      "metadata": {
        "id": "EA2eKEsbc_bX"
      },
      "execution_count": null,
      "outputs": []
    }
  ]
}
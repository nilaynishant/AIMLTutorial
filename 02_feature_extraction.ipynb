{
  "nbformat": 4,
  "nbformat_minor": 0,
  "metadata": {
    "colab": {
      "provenance": [],
      "authorship_tag": "ABX9TyMRywrt6xQE9bjQulG4f891",
      "include_colab_link": true
    },
    "kernelspec": {
      "name": "python3",
      "display_name": "Python 3"
    },
    "language_info": {
      "name": "python"
    }
  },
  "cells": [
    {
      "cell_type": "markdown",
      "metadata": {
        "id": "view-in-github",
        "colab_type": "text"
      },
      "source": [
        "<a href=\"https://colab.research.google.com/github/nilaynishant/AIMLTutorial/blob/main/02_feature_extraction.ipynb\" target=\"_parent\"><img src=\"https://colab.research.google.com/assets/colab-badge.svg\" alt=\"Open In Colab\"/></a>"
      ]
    },
    {
      "cell_type": "code",
      "execution_count": 1,
      "metadata": {
        "id": "d2f58EL9Y8dv",
        "outputId": "316bab34-ac0d-4589-9ab9-1237568f2953",
        "colab": {
          "base_uri": "https://localhost:8080/"
        }
      },
      "outputs": [
        {
          "output_type": "stream",
          "name": "stdout",
          "text": [
            "Collecting rasterio\n",
            "  Downloading rasterio-1.3.10-cp310-cp310-manylinux2014_x86_64.whl (21.5 MB)\n",
            "\u001b[2K     \u001b[90m━━━━━━━━━━━━━━━━━━━━━━━━━━━━━━━━━━━━━━━━\u001b[0m \u001b[32m21.5/21.5 MB\u001b[0m \u001b[31m36.8 MB/s\u001b[0m eta \u001b[36m0:00:00\u001b[0m\n",
            "\u001b[?25hCollecting affine (from rasterio)\n",
            "  Downloading affine-2.4.0-py3-none-any.whl (15 kB)\n",
            "Requirement already satisfied: attrs in /usr/local/lib/python3.10/dist-packages (from rasterio) (23.2.0)\n",
            "Requirement already satisfied: certifi in /usr/local/lib/python3.10/dist-packages (from rasterio) (2024.7.4)\n",
            "Requirement already satisfied: click>=4.0 in /usr/local/lib/python3.10/dist-packages (from rasterio) (8.1.7)\n",
            "Requirement already satisfied: cligj>=0.5 in /usr/local/lib/python3.10/dist-packages (from rasterio) (0.7.2)\n",
            "Requirement already satisfied: numpy in /usr/local/lib/python3.10/dist-packages (from rasterio) (1.25.2)\n",
            "Collecting snuggs>=1.4.1 (from rasterio)\n",
            "  Downloading snuggs-1.4.7-py3-none-any.whl (5.4 kB)\n",
            "Requirement already satisfied: click-plugins in /usr/local/lib/python3.10/dist-packages (from rasterio) (1.1.1)\n",
            "Requirement already satisfied: setuptools in /usr/local/lib/python3.10/dist-packages (from rasterio) (67.7.2)\n",
            "Requirement already satisfied: pyparsing>=2.1.6 in /usr/local/lib/python3.10/dist-packages (from snuggs>=1.4.1->rasterio) (3.1.2)\n",
            "Installing collected packages: snuggs, affine, rasterio\n",
            "Successfully installed affine-2.4.0 rasterio-1.3.10 snuggs-1.4.7\n",
            "Requirement already satisfied: geopandas in /usr/local/lib/python3.10/dist-packages (0.13.2)\n",
            "Requirement already satisfied: fiona>=1.8.19 in /usr/local/lib/python3.10/dist-packages (from geopandas) (1.9.6)\n",
            "Requirement already satisfied: packaging in /usr/local/lib/python3.10/dist-packages (from geopandas) (24.1)\n",
            "Requirement already satisfied: pandas>=1.1.0 in /usr/local/lib/python3.10/dist-packages (from geopandas) (2.0.3)\n",
            "Requirement already satisfied: pyproj>=3.0.1 in /usr/local/lib/python3.10/dist-packages (from geopandas) (3.6.1)\n",
            "Requirement already satisfied: shapely>=1.7.1 in /usr/local/lib/python3.10/dist-packages (from geopandas) (2.0.5)\n",
            "Requirement already satisfied: attrs>=19.2.0 in /usr/local/lib/python3.10/dist-packages (from fiona>=1.8.19->geopandas) (23.2.0)\n",
            "Requirement already satisfied: certifi in /usr/local/lib/python3.10/dist-packages (from fiona>=1.8.19->geopandas) (2024.7.4)\n",
            "Requirement already satisfied: click~=8.0 in /usr/local/lib/python3.10/dist-packages (from fiona>=1.8.19->geopandas) (8.1.7)\n",
            "Requirement already satisfied: click-plugins>=1.0 in /usr/local/lib/python3.10/dist-packages (from fiona>=1.8.19->geopandas) (1.1.1)\n",
            "Requirement already satisfied: cligj>=0.5 in /usr/local/lib/python3.10/dist-packages (from fiona>=1.8.19->geopandas) (0.7.2)\n",
            "Requirement already satisfied: six in /usr/local/lib/python3.10/dist-packages (from fiona>=1.8.19->geopandas) (1.16.0)\n",
            "Requirement already satisfied: python-dateutil>=2.8.2 in /usr/local/lib/python3.10/dist-packages (from pandas>=1.1.0->geopandas) (2.8.2)\n",
            "Requirement already satisfied: pytz>=2020.1 in /usr/local/lib/python3.10/dist-packages (from pandas>=1.1.0->geopandas) (2023.4)\n",
            "Requirement already satisfied: tzdata>=2022.1 in /usr/local/lib/python3.10/dist-packages (from pandas>=1.1.0->geopandas) (2024.1)\n",
            "Requirement already satisfied: numpy>=1.21.0 in /usr/local/lib/python3.10/dist-packages (from pandas>=1.1.0->geopandas) (1.25.2)\n",
            "Collecting gitpython\n",
            "  Downloading GitPython-3.1.43-py3-none-any.whl (207 kB)\n",
            "\u001b[2K     \u001b[90m━━━━━━━━━━━━━━━━━━━━━━━━━━━━━━━━━━━━━━━━\u001b[0m \u001b[32m207.3/207.3 kB\u001b[0m \u001b[31m1.8 MB/s\u001b[0m eta \u001b[36m0:00:00\u001b[0m\n",
            "\u001b[?25hCollecting gitdb<5,>=4.0.1 (from gitpython)\n",
            "  Downloading gitdb-4.0.11-py3-none-any.whl (62 kB)\n",
            "\u001b[2K     \u001b[90m━━━━━━━━━━━━━━━━━━━━━━━━━━━━━━━━━━━━━━━━\u001b[0m \u001b[32m62.7/62.7 kB\u001b[0m \u001b[31m7.7 MB/s\u001b[0m eta \u001b[36m0:00:00\u001b[0m\n",
            "\u001b[?25hCollecting smmap<6,>=3.0.1 (from gitdb<5,>=4.0.1->gitpython)\n",
            "  Downloading smmap-5.0.1-py3-none-any.whl (24 kB)\n",
            "Installing collected packages: smmap, gitdb, gitpython\n",
            "Successfully installed gitdb-4.0.11 gitpython-3.1.43 smmap-5.0.1\n"
          ]
        }
      ],
      "source": [
        "# run this only if you have not installed the requried packages\n",
        "!pip install rasterio\n",
        "!pip install geopandas\n",
        "!pip install gitpython"
      ]
    },
    {
      "cell_type": "markdown",
      "source": [
        "# 1-Feature Extraction\n",
        "## Load libraries"
      ],
      "metadata": {
        "id": "j3tLcYMxZahj"
      }
    },
    {
      "cell_type": "code",
      "source": [
        "import os\n",
        "import rasterio as rio\n",
        "from rasterio.plot import show\n",
        "import geopandas as gpd\n",
        "import fiona\n",
        "import matplotlib.pyplot as plt\n",
        "import numpy as np\n",
        "import pandas as pd"
      ],
      "metadata": {
        "id": "ktxXlUrVZV8j"
      },
      "execution_count": 2,
      "outputs": []
    },
    {
      "cell_type": "code",
      "source": [
        "import git\n",
        "\n",
        "repo_url = 'https://github.com/nilaynishant/AIMLTutorial.git'  # set the URL of the repository\n",
        "repo_dir = 'https://github.com/nilaynishant/AIMLTutorial/tree/main/Data'  # set the path to the local repository directory\n",
        "\n",
        "git.Repo.clone_from(repo_url, repo_dir)\n",
        "\n",
        "# # Optional: checkout a specific branch or commit\n",
        "# repo = git.Repo(repo_dir)\n",
        "# repo.git.checkout('branch_name_or_commit_hash')\n"
      ],
      "metadata": {
        "id": "NdhPviCtcCHw",
        "outputId": "a09a9771-822a-4fa4-9486-fe48bf92ecc6",
        "colab": {
          "base_uri": "https://localhost:8080/"
        }
      },
      "execution_count": 3,
      "outputs": [
        {
          "output_type": "execute_result",
          "data": {
            "text/plain": [
              "<git.repo.base.Repo '/content/https:/github.com/nilaynishant/AIMLTutorial/tree/main/Data/.git'>"
            ]
          },
          "metadata": {},
          "execution_count": 3
        }
      ]
    },
    {
      "cell_type": "code",
      "source": [
        "# variables\n",
        "# Note: labels should be always last column with name \"labels\"\n",
        "# Note: Make sure input labels shapefile and input raster have same CRS, otherwise code will not run\n",
        "\n",
        "# input files\n",
        "raster_loc = '/content/https:/github.com/nilaynishant/AIMLTutorial/tree/main/Data/Data/Sentinel2_Agartala.tif'\n",
        "points_loc = '/content/https:/github.com/nilaynishant/AIMLTutorial/tree/main/Data/Data/Training.gpkg'\n",
        "temp_point_loc = '/content/https:/github.com/nilaynishant/AIMLTutorial/tree/main/Data/Data/temp_y_points.shp'\n",
        "\n",
        "# land cover names (for post visualization)\n",
        "lulc_name = ['Vegetation', 'Builtup', 'Water', 'Agriculture','Fallow']"
      ],
      "metadata": {
        "id": "k5vmDw_caD_S"
      },
      "execution_count": 4,
      "outputs": []
    },
    {
      "cell_type": "code",
      "source": [
        "src = rio.open(raster_loc)\n",
        "\n",
        "blue = src.read(4, masked=True)\n",
        "green = src.read(3, masked=True)\n",
        "red = src.read(2, masked=True)\n",
        "nir = src.read(1, masked=True)\n",
        "\n",
        "def normalize(array):\n",
        "    \"\"\"Normalizes numpy arrays into scale 0.0 - 1.0\"\"\"\n",
        "    array_min, array_max = array.min(), array.max()\n",
        "    return ((array - array_min)/(array_max - array_min))\n",
        "\n",
        "# Normalize the bands\n",
        "redn = normalize(red)\n",
        "greenn = normalize(green)\n",
        "bluen = normalize(blue)\n",
        "nirn = normalize(nir)"
      ],
      "metadata": {
        "id": "00y8yWmicoiv"
      },
      "execution_count": 5,
      "outputs": []
    },
    {
      "cell_type": "code",
      "source": [
        "import os\n",
        "import rasterio as rio\n",
        "from rasterio.plot import show\n",
        "import geopandas as gpd\n",
        "import fiona\n",
        "import matplotlib.pyplot as plt\n",
        "import seaborn as sns\n",
        "import numpy as np\n",
        "import pandas as pd\n",
        "\n",
        "import git\n",
        "\n",
        "repo_url = 'https://github.com/nilaynishant/AIMLTutorial.git'  # set the URL of the repository\n",
        "repo_dir = 'https://github.com/nilaynishant/AIMLTutorial/tree/main/Data'  # set the path to the local repository directory\n",
        "if not os.path.exists('https://github.com/nilaynishant/AIMLTutorial/tree/main/Data'):\n",
        "  git.Repo.clone_from(repo_url, repo_dir)\n",
        "# variables\n",
        "# Note: labels should be always last column with name \"labels\"\n",
        "# Note: Make sure input labels shapefile and input raster have same CRS, otherwise code will not run\n",
        "\n",
        "# input files\n",
        "raster_loc = '/content/https:/github.com/nilaynishant/AIMLTutorial/tree/main/Data/Data/Sentinel2_Agartala.tif'\n",
        "points_loc = '/content/https:/github.com/nilaynishant/AIMLTutorial/tree/main/Data/Data/Training.gpkg'\n",
        "temp_point_loc = '/content/https:/github.com/nilaynishant/AIMLTutorial/tree/main/Data/Data/temp_y_points.shp'\n",
        "\n",
        "# land cover names (for post visualization)\n",
        "lulc_name = ['Vegetation', 'Builtup', 'Water', 'Agriculture','Fallow']\n",
        "\n",
        "#  reading bands from input\n",
        "with rio.open(raster_loc) as img:\n",
        "    bands = (img.read()).shape[0]\n",
        "print('Bands of input image: ', bands)\n",
        "\n",
        "# using ilteration to automatically create a bands list\n",
        "\n",
        "features = []\n",
        "for i in range(bands):\n",
        "    features.append('band'+str(i+1))\n",
        "print('Bands names: ', features)\n",
        "f_len = len(features)\n",
        "\n",
        "points = gpd.read_file(points_loc)\n",
        "# adding a new column 'id' with range of points\n",
        "points = points.assign(id1=range(len(points)))\n",
        "# saving nenw point file with 'id'\n",
        "points.to_file(temp_point_loc)\n",
        "# converting gdf to pd df and removing geometry\n",
        "points_df = pd.DataFrame(points.drop(columns='geometry'))\n",
        "# ilterating over multiband raster\n",
        "sampled = pd.Series()\n",
        "\n",
        "#inputShape= temp_point_loc\n",
        "# Read input shapefile with fiona and iterate over each feature\n",
        "with fiona.open(temp_point_loc) as shp:\n",
        "    for feature in shp:\n",
        "        siteID = feature['properties']['id1']\n",
        "        coords = feature['geometry']['coordinates']\n",
        "        # Read pixel value at the given coordinates using Rasterio\n",
        "        # NB: `sample()` returns an iterable of ndarrays.\n",
        "        with rio.open(raster_loc) as stack_src:\n",
        "                  value = [v for v in stack_src.sample([coords])]\n",
        "        # Update the pandas serie accordingly\n",
        "        sampled.loc[siteID] = value\n",
        "# reshaping sampled values\n",
        "df1 = pd.DataFrame(sampled.values.tolist(), index=sampled.index)\n",
        "df1['id1'] = df1.index\n",
        "df1 = pd.DataFrame(df1[0].values.tolist(),\n",
        "                   columns=features)\n",
        "df1['id1'] = df1.index\n",
        "\n",
        "data = pd.merge(df1, points_df, on ='id1')\n",
        "print('Sampled Data: \\n',data)\n",
        "\n",
        "x = data.iloc[:,0:f_len]\n",
        "X = x.values\n",
        "y = data.iloc[:,-1]\n",
        "Y = y.values\n",
        "\n",
        "import sklearn\n",
        "from sklearn.metrics import classification_report, accuracy_score\n",
        "from sklearn.model_selection import train_test_split\n",
        "X_train, X_test, y_train, y_test = train_test_split(X, Y, test_size=0.30, stratify = Y)\n",
        "\n",
        "print(f'X_train Shape: {X_train.shape}\\nX_test Shape: {X_test.shape}\\ny_train Shape: {y_train.shape}\\ny_test Shape:{y_test.shape}')"
      ],
      "metadata": {
        "colab": {
          "base_uri": "https://localhost:8080/"
        },
        "id": "AjQnmdsq09bb",
        "outputId": "fb490e9a-8d1f-4bab-b299-4f3840656201"
      },
      "execution_count": 6,
      "outputs": [
        {
          "output_type": "stream",
          "name": "stdout",
          "text": [
            "Bands of input image:  4\n",
            "Bands names:  ['band1', 'band2', 'band3', 'band4']\n",
            "Sampled Data: \n",
            "      band1   band2   band3  band4  id1  id\n",
            "0   2353.0   430.0   569.0  446.0    0   1\n",
            "1   2664.0   500.0   601.0  446.0    1   1\n",
            "2   2628.0   451.0   577.0  433.0    2   1\n",
            "3   2335.0   481.0   613.0  476.0    3   1\n",
            "4   2535.0   679.0   795.0  607.0    4   1\n",
            "5   2839.0   449.0   575.0  472.0    5   1\n",
            "6   2997.0   526.0   713.0  492.0    6   1\n",
            "7   3023.0   462.0   688.0  518.0    7   1\n",
            "8   3077.0   588.0   755.0  537.0    8   1\n",
            "9   2839.0   522.0   603.0  455.0    9   1\n",
            "10  1507.0  1058.0  1024.0  907.0   10   2\n",
            "11  1832.0   826.0   882.0  717.0   11   2\n",
            "12  1403.0  1194.0  1110.0  992.0   12   2\n",
            "13  1416.0  1224.0  1072.0  952.0   13   2\n",
            "14  1778.0   917.0   944.0  791.0   14   2\n",
            "15  1588.0   940.0   958.0  857.0   15   2\n",
            "16  1409.0   922.0   888.0  786.0   16   2\n",
            "17  1477.0  1058.0   967.0  898.0   17   2\n",
            "18  1668.0   891.0   883.0  760.0   18   2\n",
            "19  1691.0  1102.0  1050.0  903.0   19   2\n",
            "20   520.0   530.0   661.0  559.0   20   3\n",
            "21   650.0   689.0   933.0  689.0   21   3\n",
            "22   545.0   609.0   777.0  600.0   22   3\n",
            "23   769.0   633.0   882.0  728.0   23   3\n",
            "24   455.0   536.0   777.0  523.0   24   3\n",
            "25   899.0   581.0   793.0  693.0   25   3\n",
            "26   463.0   551.0   705.0  565.0   26   3\n",
            "27  1100.0   607.0   858.0  576.0   27   3\n",
            "28   810.0   611.0   838.0  630.0   28   3\n",
            "29   936.0   802.0  1052.0  774.0   29   3\n",
            "30  2552.0   584.0   716.0  537.0   30   4\n",
            "31  3396.0   586.0   808.0  572.0   31   4\n",
            "32  3163.0   567.0   744.0  531.0   32   4\n",
            "33  3077.0   714.0   857.0  582.0   33   4\n",
            "34  3198.0   555.0   821.0  537.0   34   4\n",
            "35  2877.0   692.0   816.0  568.0   35   4\n",
            "36  2857.0   761.0   854.0  607.0   36   4\n",
            "37  2931.0   760.0   868.0  617.0   37   4\n",
            "38  3468.0   589.0   877.0  570.0   38   4\n",
            "39  2666.0   912.0   971.0  683.0   39   4\n",
            "40  2795.0   838.0   965.0  689.0   40   4\n",
            "41  3721.0   906.0   996.0  691.0   41   4\n",
            "42  2076.0   949.0   832.0  682.0   42   5\n",
            "43  1942.0  1060.0  1011.0  811.0   43   5\n",
            "44  2127.0   947.0  1054.0  818.0   44   5\n",
            "45  2329.0  1044.0  1046.0  868.0   45   5\n",
            "46  2327.0   859.0  1005.0  753.0   46   5\n",
            "47  2430.0   834.0   922.0  736.0   47   5\n",
            "48  2388.0   932.0   972.0  732.0   48   5\n",
            "49  1810.0   876.0   777.0  629.0   49   5\n",
            "50  2012.0  1022.0   869.0  689.0   50   5\n",
            "X_train Shape: (35, 4)\n",
            "X_test Shape: (16, 4)\n",
            "y_train Shape: (35,)\n",
            "y_test Shape:(16,)\n"
          ]
        }
      ]
    },
    {
      "cell_type": "markdown",
      "source": [
        "## Train Test data split"
      ],
      "metadata": {
        "id": "OBCRwrdSdWLY"
      }
    },
    {
      "cell_type": "code",
      "source": [
        "from sklearn.model_selection import train_test_split\n",
        "\n",
        "X_train, X_test, y_train, y_test = train_test_split(X, Y, test_size=0.30, stratify = Y)\n",
        "\n",
        "print(f'X_train Shape: {X_train.shape}\\nX_test Shape: {X_test.shape}\\ny_train Shape: {y_train.shape}\\ny_test Shape:{y_test.shape}')"
      ],
      "metadata": {
        "id": "EA2eKEsbc_bX",
        "colab": {
          "base_uri": "https://localhost:8080/"
        },
        "outputId": "7c792ce1-3cb3-42db-ffb5-2b4ddc0c9e67"
      },
      "execution_count": null,
      "outputs": [
        {
          "output_type": "stream",
          "name": "stdout",
          "text": [
            "X_train Shape: (29, 4)\n",
            "X_test Shape: (13, 4)\n",
            "y_train Shape: (29,)\n",
            "y_test Shape:(13,)\n"
          ]
        }
      ]
    }
  ]
}
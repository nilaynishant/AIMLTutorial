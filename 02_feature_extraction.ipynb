{
  "nbformat": 4,
  "nbformat_minor": 0,
  "metadata": {
    "colab": {
      "provenance": [],
      "authorship_tag": "ABX9TyPcSKGWk8om6fHJPQUw5VAQ",
      "include_colab_link": true
    },
    "kernelspec": {
      "name": "python3",
      "display_name": "Python 3"
    },
    "language_info": {
      "name": "python"
    }
  },
  "cells": [
    {
      "cell_type": "markdown",
      "metadata": {
        "id": "view-in-github",
        "colab_type": "text"
      },
      "source": [
        "<a href=\"https://colab.research.google.com/github/nilaynishant/AIMLTutorial/blob/main/02_feature_extraction.ipynb\" target=\"_parent\"><img src=\"https://colab.research.google.com/assets/colab-badge.svg\" alt=\"Open In Colab\"/></a>"
      ]
    },
    {
      "cell_type": "code",
      "execution_count": null,
      "metadata": {
        "id": "d2f58EL9Y8dv"
      },
      "outputs": [],
      "source": [
        "# run this only if you have not installed the requried packages\n",
        "!pip install rasterio\n",
        "!pip install geopandas\n",
        "!pip install gitpython"
      ]
    },
    {
      "cell_type": "markdown",
      "source": [
        "# 1-Feature Extraction\n",
        "## Load libraries"
      ],
      "metadata": {
        "id": "j3tLcYMxZahj"
      }
    },
    {
      "cell_type": "code",
      "source": [
        "import os\n",
        "import rasterio as rio\n",
        "from rasterio.plot import show\n",
        "import geopandas as gpd\n",
        "import fiona\n",
        "import matplotlib.pyplot as plt\n",
        "import numpy as np\n",
        "import pandas as pd"
      ],
      "metadata": {
        "id": "ktxXlUrVZV8j"
      },
      "execution_count": 29,
      "outputs": []
    },
    {
      "cell_type": "code",
      "source": [
        "import git\n",
        "\n",
        "repo_url = 'https://github.com/nilaynishant/AIMLTutorial.git'  # set the URL of the repository\n",
        "repo_dir = 'https://github.com/nilaynishant/AIMLTutorial/tree/main/Data'  # set the path to the local repository directory\n",
        "\n",
        "git.Repo.clone_from(repo_url, repo_dir)\n",
        "\n",
        "# # Optional: checkout a specific branch or commit\n",
        "# repo = git.Repo(repo_dir)\n",
        "# repo.git.checkout('branch_name_or_commit_hash')\n"
      ],
      "metadata": {
        "id": "NdhPviCtcCHw"
      },
      "execution_count": null,
      "outputs": []
    },
    {
      "cell_type": "code",
      "source": [
        "# variables \n",
        "# Note: labels should be always last column with name \"labels\"\n",
        "# Note: Make sure input labels shapefile and input raster have same CRS, otherwise code will not run\n",
        "\n",
        "# input files\n",
        "raster_loc = '/content/https:/github.com/nilaynishant/AIMLTutorial/tree/main/Data/Data/Sentinel2_Agartala.tif'\n",
        "points_loc = '/content/https:/github.com/nilaynishant/AIMLTutorial/tree/main/Data/Data/Training.gpkg'\n",
        "temp_point_loc = '/content/https:/github.com/nilaynishant/AIMLTutorial/tree/main/Data/Data/temp_y_points.shp'\n",
        "\n",
        "# land cover names (for post visualization)\n",
        "lulc_name = ['Vegetation', 'Builtup', 'Water', 'Agriculture','Fallow']"
      ],
      "metadata": {
        "id": "k5vmDw_caD_S"
      },
      "execution_count": 31,
      "outputs": []
    },
    {
      "cell_type": "code",
      "source": [
        "src = rio.open(raster_loc)\n",
        "\n",
        "blue = src.read(4, masked=True)\n",
        "green = src.read(3, masked=True)\n",
        "red = src.read(2, masked=True)\n",
        "nir = src.read(1, masked=True)\n",
        "\n",
        "def normalize(array):\n",
        "    \"\"\"Normalizes numpy arrays into scale 0.0 - 1.0\"\"\"\n",
        "    array_min, array_max = array.min(), array.max()\n",
        "    return ((array - array_min)/(array_max - array_min))\n",
        "\n",
        "# Normalize the bands\n",
        "redn = normalize(red)\n",
        "greenn = normalize(green)\n",
        "bluen = normalize(blue)\n",
        "nirn = normalize(nir)"
      ],
      "metadata": {
        "id": "00y8yWmicoiv"
      },
      "execution_count": 32,
      "outputs": []
    },
    {
      "cell_type": "code",
      "source": [
        "#  reading bands from input\n",
        "with rio.open(raster_loc) as img:\n",
        "    bands = (img.read()).shape[0]\n",
        "print('Bands of input image: ', bands)\n",
        "\n",
        "# using ilteration to automatically create a bands list\n",
        "\n",
        "features = []\n",
        "for i in range(bands):\n",
        "    features.append('band'+str(i+1))\n",
        "print('Bands names: ', features)\n",
        "f_len = len(features)\n",
        "print(f_len)\n",
        "points = gpd.read_file(points_loc)\n",
        "# # adding a new column 'id' with range of points\n",
        "# points = points.assign(id=range(len(points)))\n",
        "# # saving nenw point file with 'id'\n",
        "points.to_file(temp_point_loc) \n",
        "# # converting gdf to pd df and removing geometry\n",
        "points_df = pd.DataFrame(points.drop(columns='geometry'))\n",
        "# # ilterating over multiband raster\n",
        "sampled = pd.Series()\n",
        "print(sampled)\n",
        "# #inputShape= temp_point_loc\n",
        "# # Read input shapefile with fiona and iterate over each feature\n",
        "with fiona.open(temp_point_loc) as shp:\n",
        "    for feature in shp:\n",
        "        siteID = feature['properties']['id']\n",
        "        coords = feature['geometry']['coordinates']\n",
        "        # Read pixel value at the given coordinates using Rasterio\n",
        "        # NB: `sample()` returns an iterable of ndarrays.\n",
        "        with rio.open(raster_loc) as stack_src:\n",
        "                  value = [v for v in stack_src.sample([coords])]\n",
        "        # Update the pandas serie accordingly\n",
        "        sampled.loc[siteID] = value\n",
        "\n",
        "# # reshaping sampled values\n",
        "df1 = pd.DataFrame(sampled.values.tolist(), index=sampled.index)\n",
        "df1['id'] = df1.index\n",
        "df1 = pd.DataFrame(df1[0].values.tolist(), \n",
        "                   columns=features)\n",
        "df1['id'] = df1.index\n",
        "\n",
        "data = pd.merge(df1, points_df, on ='id')\n",
        "print('Sampled Data: \\n',data)\n",
        "\n",
        "x = data.iloc[:,0:f_len]\n",
        "X = x.values\n",
        "y = data.iloc[:,-1]\n",
        "Y = y.values"
      ],
      "metadata": {
        "colab": {
          "base_uri": "https://localhost:8080/"
        },
        "id": "AjQnmdsq09bb",
        "outputId": "63f6c75f-d00e-4c85-8eda-287d3e94f5fe"
      },
      "execution_count": 33,
      "outputs": [
        {
          "output_type": "stream",
          "name": "stdout",
          "text": [
            "Bands of input image:  4\n",
            "Bands names:  ['band1', 'band2', 'band3', 'band4']\n",
            "4\n",
            "Series([], dtype: float64)\n"
          ]
        },
        {
          "output_type": "stream",
          "name": "stderr",
          "text": [
            "<ipython-input-33-37373b1bd8b2>:22: FutureWarning: The default dtype for empty Series will be 'object' instead of 'float64' in a future version. Specify a dtype explicitly to silence this warning.\n",
            "  sampled = pd.Series()\n"
          ]
        },
        {
          "output_type": "stream",
          "name": "stdout",
          "text": [
            "Sampled Data: \n",
            "      band1   band2   band3  band4  id\n",
            "0   1691.0  1102.0  1050.0  903.0   1\n",
            "1   1691.0  1102.0  1050.0  903.0   1\n",
            "2   1691.0  1102.0  1050.0  903.0   1\n",
            "3   1691.0  1102.0  1050.0  903.0   1\n",
            "4   1691.0  1102.0  1050.0  903.0   1\n",
            "5   1691.0  1102.0  1050.0  903.0   1\n",
            "6   1691.0  1102.0  1050.0  903.0   1\n",
            "7   1691.0  1102.0  1050.0  903.0   1\n",
            "8   1691.0  1102.0  1050.0  903.0   1\n",
            "9   1691.0  1102.0  1050.0  903.0   1\n",
            "10   936.0   802.0  1052.0  774.0   2\n",
            "11   936.0   802.0  1052.0  774.0   2\n",
            "12   936.0   802.0  1052.0  774.0   2\n",
            "13   936.0   802.0  1052.0  774.0   2\n",
            "14   936.0   802.0  1052.0  774.0   2\n",
            "15   936.0   802.0  1052.0  774.0   2\n",
            "16   936.0   802.0  1052.0  774.0   2\n",
            "17   936.0   802.0  1052.0  774.0   2\n",
            "18   936.0   802.0  1052.0  774.0   2\n",
            "19   936.0   802.0  1052.0  774.0   2\n",
            "20  3721.0   906.0   996.0  691.0   3\n",
            "21  3721.0   906.0   996.0  691.0   3\n",
            "22  3721.0   906.0   996.0  691.0   3\n",
            "23  3721.0   906.0   996.0  691.0   3\n",
            "24  3721.0   906.0   996.0  691.0   3\n",
            "25  3721.0   906.0   996.0  691.0   3\n",
            "26  3721.0   906.0   996.0  691.0   3\n",
            "27  3721.0   906.0   996.0  691.0   3\n",
            "28  3721.0   906.0   996.0  691.0   3\n",
            "29  3721.0   906.0   996.0  691.0   3\n",
            "30  2012.0  1022.0   869.0  689.0   4\n",
            "31  2012.0  1022.0   869.0  689.0   4\n",
            "32  2012.0  1022.0   869.0  689.0   4\n",
            "33  2012.0  1022.0   869.0  689.0   4\n",
            "34  2012.0  1022.0   869.0  689.0   4\n",
            "35  2012.0  1022.0   869.0  689.0   4\n",
            "36  2012.0  1022.0   869.0  689.0   4\n",
            "37  2012.0  1022.0   869.0  689.0   4\n",
            "38  2012.0  1022.0   869.0  689.0   4\n",
            "39  2012.0  1022.0   869.0  689.0   4\n",
            "40  2012.0  1022.0   869.0  689.0   4\n",
            "41  2012.0  1022.0   869.0  689.0   4\n"
          ]
        }
      ]
    },
    {
      "cell_type": "markdown",
      "source": [
        "## Train Test data split"
      ],
      "metadata": {
        "id": "OBCRwrdSdWLY"
      }
    },
    {
      "cell_type": "code",
      "source": [
        "from sklearn.model_selection import train_test_split\n",
        "\n",
        "X_train, X_test, y_train, y_test = train_test_split(X, Y, test_size=0.30, stratify = Y)\n",
        "\n",
        "print(f'X_train Shape: {X_train.shape}\\nX_test Shape: {X_test.shape}\\ny_train Shape: {y_train.shape}\\ny_test Shape:{y_test.shape}')"
      ],
      "metadata": {
        "id": "EA2eKEsbc_bX",
        "colab": {
          "base_uri": "https://localhost:8080/"
        },
        "outputId": "7c792ce1-3cb3-42db-ffb5-2b4ddc0c9e67"
      },
      "execution_count": 34,
      "outputs": [
        {
          "output_type": "stream",
          "name": "stdout",
          "text": [
            "X_train Shape: (29, 4)\n",
            "X_test Shape: (13, 4)\n",
            "y_train Shape: (29,)\n",
            "y_test Shape:(13,)\n"
          ]
        }
      ]
    }
  ]
}